{
 "cells": [
  {
   "cell_type": "markdown",
   "id": "4feebbac",
   "metadata": {},
   "source": [
    "# Pivony Case Study - Data Science"
   ]
  },
  {
   "cell_type": "markdown",
   "id": "d4a5d1e2",
   "metadata": {},
   "source": [
    "Loading the Dataset"
   ]
  },
  {
   "cell_type": "code",
   "execution_count": 1,
   "id": "7af3d1cb",
   "metadata": {},
   "outputs": [
    {
     "data": {
      "text/html": [
       "<div>\n",
       "<style scoped>\n",
       "    .dataframe tbody tr th:only-of-type {\n",
       "        vertical-align: middle;\n",
       "    }\n",
       "\n",
       "    .dataframe tbody tr th {\n",
       "        vertical-align: top;\n",
       "    }\n",
       "\n",
       "    .dataframe thead th {\n",
       "        text-align: right;\n",
       "    }\n",
       "</style>\n",
       "<table border=\"1\" class=\"dataframe\">\n",
       "  <thead>\n",
       "    <tr style=\"text-align: right;\">\n",
       "      <th></th>\n",
       "      <th>tweet_id</th>\n",
       "      <th>sentiment</th>\n",
       "      <th>content</th>\n",
       "    </tr>\n",
       "  </thead>\n",
       "  <tbody>\n",
       "    <tr>\n",
       "      <th>0</th>\n",
       "      <td>1956967341</td>\n",
       "      <td>empty</td>\n",
       "      <td>@tiffanylue i know  i was listenin to bad habi...</td>\n",
       "    </tr>\n",
       "    <tr>\n",
       "      <th>1</th>\n",
       "      <td>1956967666</td>\n",
       "      <td>sadness</td>\n",
       "      <td>Layin n bed with a headache  ughhhh...waitin o...</td>\n",
       "    </tr>\n",
       "    <tr>\n",
       "      <th>2</th>\n",
       "      <td>1956967696</td>\n",
       "      <td>sadness</td>\n",
       "      <td>Funeral ceremony...gloomy friday...</td>\n",
       "    </tr>\n",
       "    <tr>\n",
       "      <th>3</th>\n",
       "      <td>1956967789</td>\n",
       "      <td>enthusiasm</td>\n",
       "      <td>wants to hang out with friends SOON!</td>\n",
       "    </tr>\n",
       "    <tr>\n",
       "      <th>4</th>\n",
       "      <td>1956968416</td>\n",
       "      <td>neutral</td>\n",
       "      <td>@dannycastillo We want to trade with someone w...</td>\n",
       "    </tr>\n",
       "  </tbody>\n",
       "</table>\n",
       "</div>"
      ],
      "text/plain": [
       "     tweet_id   sentiment                                            content\n",
       "0  1956967341       empty  @tiffanylue i know  i was listenin to bad habi...\n",
       "1  1956967666     sadness  Layin n bed with a headache  ughhhh...waitin o...\n",
       "2  1956967696     sadness                Funeral ceremony...gloomy friday...\n",
       "3  1956967789  enthusiasm               wants to hang out with friends SOON!\n",
       "4  1956968416     neutral  @dannycastillo We want to trade with someone w..."
      ]
     },
     "execution_count": 1,
     "metadata": {},
     "output_type": "execute_result"
    }
   ],
   "source": [
    "from mpl_toolkits.mplot3d import Axes3D\n",
    "from sklearn.preprocessing import StandardScaler\n",
    "import matplotlib.pyplot as plt # plotting\n",
    "from wordcloud import WordCloud, STOPWORDS\n",
    "from collections import defaultdict\n",
    "import numpy as np # linear algebra\n",
    "import os # accessing directory structure\n",
    "import pandas as pd # data processing\n",
    "from sklearn.metrics import accuracy_score\n",
    "from xgboost import XGBClassifier\n",
    "from sklearn.svm import LinearSVC\n",
    "from sklearn.ensemble import AdaBoostClassifier\n",
    "from sklearn.naive_bayes import MultinomialNB\n",
    "from sklearn.linear_model import RidgeClassifier\n",
    "from sklearn.linear_model import PassiveAggressiveClassifier\n",
    "from sklearn.linear_model import Perceptron\n",
    "from sklearn.neighbors import NearestCentroid\n",
    "from sklearn.neighbors import KNeighborsClassifier\n",
    "from sklearn.feature_selection import SelectFromModel\n",
    "from sklearn.ensemble import RandomForestRegressor\n",
    "from sklearn.linear_model import LogisticRegression\n",
    "from sklearn.preprocessing import LabelEncoder\n",
    "from sklearn.model_selection import train_test_split\n",
    "from sklearn.feature_extraction.text import CountVectorizer\n",
    "from sklearn.pipeline import Pipeline\n",
    "from time import time\n",
    "from sklearn.metrics import accuracy_score\n",
    "from sklearn import preprocessing\n",
    "import inflect\n",
    "import contractions\n",
    "from bs4 import BeautifulSoup\n",
    "import re, string, unicodedata\n",
    "import nltk\n",
    "nltk.download('punkt')\n",
    "nltk.download('stopwords')\n",
    "nltk.download('wordnet')\n",
    "from nltk import word_tokenize, sent_tokenize\n",
    "from nltk.corpus import stopwords\n",
    "from nltk.stem import LancasterStemmer, WordNetLemmatizer\n",
    "import seaborn as sns\n",
    "import warnings\n",
    "warnings.filterwarnings('ignore')\n",
    "data = pd.read_csv('tweet_emotions.csv')\n",
    "data.head()"
   ]
  },
  {
   "cell_type": "code",
   "execution_count": 2,
   "id": "00047006",
   "metadata": {},
   "outputs": [
    {
     "name": "stdout",
     "output_type": "stream",
     "text": [
      "            tweet_id sentiment  \\\n",
      "count   4.000000e+04     40000   \n",
      "unique           NaN        13   \n",
      "top              NaN   neutral   \n",
      "freq             NaN      8638   \n",
      "mean    1.845184e+09       NaN   \n",
      "std     1.188579e+08       NaN   \n",
      "min     1.693956e+09       NaN   \n",
      "25%     1.751431e+09       NaN   \n",
      "50%     1.855443e+09       NaN   \n",
      "75%     1.962781e+09       NaN   \n",
      "max     1.966441e+09       NaN   \n",
      "\n",
      "                                                  content  \n",
      "count                                               40000  \n",
      "unique                                              39827  \n",
      "top     I just received a mothers day card from my lov...  \n",
      "freq                                                   14  \n",
      "mean                                                  NaN  \n",
      "std                                                   NaN  \n",
      "min                                                   NaN  \n",
      "25%                                                   NaN  \n",
      "50%                                                   NaN  \n",
      "75%                                                   NaN  \n",
      "max                                                   NaN  \n"
     ]
    },
    {
     "data": {
      "text/plain": [
       "tweet_id     0\n",
       "sentiment    0\n",
       "content      0\n",
       "dtype: int64"
      ]
     },
     "execution_count": 2,
     "metadata": {},
     "output_type": "execute_result"
    }
   ],
   "source": [
    "print(data.describe(include='all'))   #describe\n",
    "data.isnull().sum()                   #mising values"
   ]
  },
  {
   "cell_type": "markdown",
   "id": "ba24709f",
   "metadata": {},
   "source": [
    "# Pre-processing Tweets"
   ]
  },
  {
   "cell_type": "code",
   "execution_count": 3,
   "id": "b8f239cb",
   "metadata": {},
   "outputs": [
    {
     "name": "stderr",
     "output_type": "stream",
     "text": [
      "[nltk_data] Downloading package punkt to\n",
      "[nltk_data]     C:\\Users\\Ebru\\AppData\\Roaming\\nltk_data...\n",
      "[nltk_data]   Package punkt is already up-to-date!\n",
      "[nltk_data] Downloading package stopwords to\n",
      "[nltk_data]     C:\\Users\\Ebru\\AppData\\Roaming\\nltk_data...\n",
      "[nltk_data]   Package stopwords is already up-to-date!\n",
      "[nltk_data] Downloading package wordnet to\n",
      "[nltk_data]     C:\\Users\\Ebru\\AppData\\Roaming\\nltk_data...\n",
      "[nltk_data]   Package wordnet is already up-to-date!\n"
     ]
    },
    {
     "name": "stdout",
     "output_type": "stream",
     "text": [
      "After Text Preprocessing\n"
     ]
    },
    {
     "data": {
      "text/html": [
       "<div>\n",
       "<style scoped>\n",
       "    .dataframe tbody tr th:only-of-type {\n",
       "        vertical-align: middle;\n",
       "    }\n",
       "\n",
       "    .dataframe tbody tr th {\n",
       "        vertical-align: top;\n",
       "    }\n",
       "\n",
       "    .dataframe thead th {\n",
       "        text-align: right;\n",
       "    }\n",
       "</style>\n",
       "<table border=\"1\" class=\"dataframe\">\n",
       "  <thead>\n",
       "    <tr style=\"text-align: right;\">\n",
       "      <th></th>\n",
       "      <th>content</th>\n",
       "    </tr>\n",
       "  </thead>\n",
       "  <tbody>\n",
       "    <tr>\n",
       "      <th>0</th>\n",
       "      <td>tiffanylue know listenin bad habit earlier sta...</td>\n",
       "    </tr>\n",
       "    <tr>\n",
       "      <th>1</th>\n",
       "      <td>layin n bed headache ughhhh waitin call</td>\n",
       "    </tr>\n",
       "    <tr>\n",
       "      <th>2</th>\n",
       "      <td>funeral ceremony gloomy friday</td>\n",
       "    </tr>\n",
       "    <tr>\n",
       "      <th>3</th>\n",
       "      <td>want hang friends soon</td>\n",
       "    </tr>\n",
       "    <tr>\n",
       "      <th>4</th>\n",
       "      <td>dannycastillo want trade someone houston ticke...</td>\n",
       "    </tr>\n",
       "  </tbody>\n",
       "</table>\n",
       "</div>"
      ],
      "text/plain": [
       "                                             content\n",
       "0  tiffanylue know listenin bad habit earlier sta...\n",
       "1            layin n bed headache ughhhh waitin call\n",
       "2                     funeral ceremony gloomy friday\n",
       "3                             want hang friends soon\n",
       "4  dannycastillo want trade someone houston ticke..."
      ]
     },
     "metadata": {},
     "output_type": "display_data"
    }
   ],
   "source": [
    "def text_preprocessing_platform(df, text_col, remove_stopwords=True):\n",
    "    \n",
    "    ## Define functions for individual steps\n",
    "    # First function is used to denoise text\n",
    "    def denoise_text(text):\n",
    "        # Strip html if any. For ex. removing <html>, <p> tags\n",
    "        soup = BeautifulSoup(text, \"html.parser\")\n",
    "        text = soup.get_text()\n",
    "        # Replace contractions in the text. For ex. didn't -> did not\n",
    "        text = contractions.fix(text)\n",
    "        return text\n",
    "  \n",
    "    def remove_non_ascii(words):\n",
    "        \"\"\"Remove non-ASCII characters from list of tokenized words\"\"\"\n",
    "        new_words = []\n",
    "        for word in words:\n",
    "            new_word = unicodedata.normalize('NFKD', word).encode('ascii', 'ignore').decode('utf-8', 'ignore')\n",
    "            new_words.append(new_word)\n",
    "        return new_words\n",
    "    \n",
    "    \n",
    "    def to_lowercase(words):\n",
    "        \"\"\"Convert all characters to lowercase from list of tokenized words\"\"\"\n",
    "        new_words = []\n",
    "        for word in words:\n",
    "            new_word = word.lower()\n",
    "            new_words.append(new_word)\n",
    "        return new_words\n",
    "    \n",
    "    \n",
    "    def remove_punctuation(words):\n",
    "        \"\"\"Remove punctuation from list of tokenized words\"\"\"\n",
    "        new_words = []\n",
    "        for word in words:\n",
    "            new_word = re.sub(r'[^\\w\\s]', '', word)\n",
    "            if new_word != '':\n",
    "                new_words.append(new_word)\n",
    "        return new_words    \n",
    "\n",
    "    \n",
    "    def replace_numbers(words):\n",
    "        \"\"\"Replace all interger occurrences in list of tokenized words with textual representation\"\"\"\n",
    "        p = inflect.engine()\n",
    "        new_words = []\n",
    "        for word in words:\n",
    "            if word.isdigit():\n",
    "                new_word = p.number_to_words(word)\n",
    "                new_words.append(new_word)\n",
    "            else:\n",
    "                new_words.append(word)\n",
    "        return new_words\n",
    "    \n",
    "    \n",
    "    def remove_stopwords(words):\n",
    "        \"\"\"Remove stop words from list of tokenized words\"\"\"\n",
    "        new_words = []\n",
    "        for word in words:\n",
    "            if word not in stopwords.words('english'):\n",
    "                new_words.append(word)\n",
    "        return new_words\n",
    "    \n",
    "    \n",
    "    def stem_words(words):\n",
    "        \"\"\"Stem words in list of tokenized words\"\"\"\n",
    "        stemmer = LancasterStemmer()\n",
    "        stems = []\n",
    "        for word in words:\n",
    "            stem = stemmer.stem(word)\n",
    "            stems.append(stem)\n",
    "        return stems\n",
    "    \n",
    "    \n",
    "    def lemmatize_verbs(words):\n",
    "        \"\"\"Lemmatize verbs in list of tokenized words\"\"\"\n",
    "        lemmatizer = WordNetLemmatizer()\n",
    "        lemmas = []\n",
    "        for word in words:\n",
    "            lemma = lemmatizer.lemmatize(word, pos='v')\n",
    "            lemmas.append(lemma)\n",
    "        return lemmas\n",
    "    \n",
    "    \n",
    "    ### A wrap-up function for normalization\n",
    "    def normalize_text(words, remove_stopwords):\n",
    "        words = remove_non_ascii(words)\n",
    "        words = to_lowercase(words)\n",
    "        words = remove_punctuation(words)\n",
    "        words = replace_numbers(words)\n",
    "        if remove_stopwords:\n",
    "            words = remove_stopwords(words)\n",
    "        #words = stem_words(words)\n",
    "        words = lemmatize_verbs(words)\n",
    "        return words\n",
    "    \n",
    "    # All above functions work on word tokens we need a tokenizer\n",
    "    \n",
    "    # Tokenize tweet into words\n",
    "    def tokenize(text):\n",
    "        return nltk.word_tokenize(text)\n",
    "    \n",
    "    \n",
    "    # A overall wrap-up function\n",
    "    def text_prepare(text):\n",
    "        text = denoise_text(text)\n",
    "        text = ' '.join([x for x in normalize_text(tokenize(text), remove_stopwords)])\n",
    "        return text\n",
    "    \n",
    "    # run every-step\n",
    "    df[text_col] = [text_prepare(x) for x in df[text_col]]\n",
    "    \n",
    "    \n",
    "    # return processed df\n",
    "    return df\n",
    "\n",
    "\n",
    "processed_data = text_preprocessing_platform(data, 'content', remove_stopwords=False)\n",
    "print(\"After Text Preprocessing\")\n",
    "display(processed_data.head()[['content']])"
   ]
  },
  {
   "cell_type": "markdown",
   "id": "e413cab2",
   "metadata": {},
   "source": [
    "# Data Visualization"
   ]
  },
  {
   "cell_type": "code",
   "execution_count": 7,
   "id": "68a75677",
   "metadata": {
    "scrolled": false
   },
   "outputs": [
    {
     "data": {
      "application/vnd.plotly.v1+json": {
       "config": {
        "plotlyServerURL": "https://plot.ly"
       },
       "data": [
        {
         "insidetextorientation": "radial",
         "labels": [
          "empty",
          "sadness",
          "enthusiasm",
          "neutral",
          "worry",
          "surprise",
          "love",
          "fun",
          "hate",
          "happiness"
         ],
         "pull": [
          0,
          0,
          0,
          0,
          0,
          0,
          0,
          0.1,
          0.2,
          0.3
         ],
         "textinfo": "label+percent",
         "type": "pie",
         "values": [
          8638,
          8459,
          5209,
          5165,
          3842,
          2187,
          1776,
          1526,
          1323,
          827
         ]
        }
       ],
       "layout": {
        "template": {
         "data": {
          "bar": [
           {
            "error_x": {
             "color": "#2a3f5f"
            },
            "error_y": {
             "color": "#2a3f5f"
            },
            "marker": {
             "line": {
              "color": "#E5ECF6",
              "width": 0.5
             },
             "pattern": {
              "fillmode": "overlay",
              "size": 10,
              "solidity": 0.2
             }
            },
            "type": "bar"
           }
          ],
          "barpolar": [
           {
            "marker": {
             "line": {
              "color": "#E5ECF6",
              "width": 0.5
             },
             "pattern": {
              "fillmode": "overlay",
              "size": 10,
              "solidity": 0.2
             }
            },
            "type": "barpolar"
           }
          ],
          "carpet": [
           {
            "aaxis": {
             "endlinecolor": "#2a3f5f",
             "gridcolor": "white",
             "linecolor": "white",
             "minorgridcolor": "white",
             "startlinecolor": "#2a3f5f"
            },
            "baxis": {
             "endlinecolor": "#2a3f5f",
             "gridcolor": "white",
             "linecolor": "white",
             "minorgridcolor": "white",
             "startlinecolor": "#2a3f5f"
            },
            "type": "carpet"
           }
          ],
          "choropleth": [
           {
            "colorbar": {
             "outlinewidth": 0,
             "ticks": ""
            },
            "type": "choropleth"
           }
          ],
          "contour": [
           {
            "colorbar": {
             "outlinewidth": 0,
             "ticks": ""
            },
            "colorscale": [
             [
              0,
              "#0d0887"
             ],
             [
              0.1111111111111111,
              "#46039f"
             ],
             [
              0.2222222222222222,
              "#7201a8"
             ],
             [
              0.3333333333333333,
              "#9c179e"
             ],
             [
              0.4444444444444444,
              "#bd3786"
             ],
             [
              0.5555555555555556,
              "#d8576b"
             ],
             [
              0.6666666666666666,
              "#ed7953"
             ],
             [
              0.7777777777777778,
              "#fb9f3a"
             ],
             [
              0.8888888888888888,
              "#fdca26"
             ],
             [
              1,
              "#f0f921"
             ]
            ],
            "type": "contour"
           }
          ],
          "contourcarpet": [
           {
            "colorbar": {
             "outlinewidth": 0,
             "ticks": ""
            },
            "type": "contourcarpet"
           }
          ],
          "heatmap": [
           {
            "colorbar": {
             "outlinewidth": 0,
             "ticks": ""
            },
            "colorscale": [
             [
              0,
              "#0d0887"
             ],
             [
              0.1111111111111111,
              "#46039f"
             ],
             [
              0.2222222222222222,
              "#7201a8"
             ],
             [
              0.3333333333333333,
              "#9c179e"
             ],
             [
              0.4444444444444444,
              "#bd3786"
             ],
             [
              0.5555555555555556,
              "#d8576b"
             ],
             [
              0.6666666666666666,
              "#ed7953"
             ],
             [
              0.7777777777777778,
              "#fb9f3a"
             ],
             [
              0.8888888888888888,
              "#fdca26"
             ],
             [
              1,
              "#f0f921"
             ]
            ],
            "type": "heatmap"
           }
          ],
          "heatmapgl": [
           {
            "colorbar": {
             "outlinewidth": 0,
             "ticks": ""
            },
            "colorscale": [
             [
              0,
              "#0d0887"
             ],
             [
              0.1111111111111111,
              "#46039f"
             ],
             [
              0.2222222222222222,
              "#7201a8"
             ],
             [
              0.3333333333333333,
              "#9c179e"
             ],
             [
              0.4444444444444444,
              "#bd3786"
             ],
             [
              0.5555555555555556,
              "#d8576b"
             ],
             [
              0.6666666666666666,
              "#ed7953"
             ],
             [
              0.7777777777777778,
              "#fb9f3a"
             ],
             [
              0.8888888888888888,
              "#fdca26"
             ],
             [
              1,
              "#f0f921"
             ]
            ],
            "type": "heatmapgl"
           }
          ],
          "histogram": [
           {
            "marker": {
             "pattern": {
              "fillmode": "overlay",
              "size": 10,
              "solidity": 0.2
             }
            },
            "type": "histogram"
           }
          ],
          "histogram2d": [
           {
            "colorbar": {
             "outlinewidth": 0,
             "ticks": ""
            },
            "colorscale": [
             [
              0,
              "#0d0887"
             ],
             [
              0.1111111111111111,
              "#46039f"
             ],
             [
              0.2222222222222222,
              "#7201a8"
             ],
             [
              0.3333333333333333,
              "#9c179e"
             ],
             [
              0.4444444444444444,
              "#bd3786"
             ],
             [
              0.5555555555555556,
              "#d8576b"
             ],
             [
              0.6666666666666666,
              "#ed7953"
             ],
             [
              0.7777777777777778,
              "#fb9f3a"
             ],
             [
              0.8888888888888888,
              "#fdca26"
             ],
             [
              1,
              "#f0f921"
             ]
            ],
            "type": "histogram2d"
           }
          ],
          "histogram2dcontour": [
           {
            "colorbar": {
             "outlinewidth": 0,
             "ticks": ""
            },
            "colorscale": [
             [
              0,
              "#0d0887"
             ],
             [
              0.1111111111111111,
              "#46039f"
             ],
             [
              0.2222222222222222,
              "#7201a8"
             ],
             [
              0.3333333333333333,
              "#9c179e"
             ],
             [
              0.4444444444444444,
              "#bd3786"
             ],
             [
              0.5555555555555556,
              "#d8576b"
             ],
             [
              0.6666666666666666,
              "#ed7953"
             ],
             [
              0.7777777777777778,
              "#fb9f3a"
             ],
             [
              0.8888888888888888,
              "#fdca26"
             ],
             [
              1,
              "#f0f921"
             ]
            ],
            "type": "histogram2dcontour"
           }
          ],
          "mesh3d": [
           {
            "colorbar": {
             "outlinewidth": 0,
             "ticks": ""
            },
            "type": "mesh3d"
           }
          ],
          "parcoords": [
           {
            "line": {
             "colorbar": {
              "outlinewidth": 0,
              "ticks": ""
             }
            },
            "type": "parcoords"
           }
          ],
          "pie": [
           {
            "automargin": true,
            "type": "pie"
           }
          ],
          "scatter": [
           {
            "marker": {
             "colorbar": {
              "outlinewidth": 0,
              "ticks": ""
             }
            },
            "type": "scatter"
           }
          ],
          "scatter3d": [
           {
            "line": {
             "colorbar": {
              "outlinewidth": 0,
              "ticks": ""
             }
            },
            "marker": {
             "colorbar": {
              "outlinewidth": 0,
              "ticks": ""
             }
            },
            "type": "scatter3d"
           }
          ],
          "scattercarpet": [
           {
            "marker": {
             "colorbar": {
              "outlinewidth": 0,
              "ticks": ""
             }
            },
            "type": "scattercarpet"
           }
          ],
          "scattergeo": [
           {
            "marker": {
             "colorbar": {
              "outlinewidth": 0,
              "ticks": ""
             }
            },
            "type": "scattergeo"
           }
          ],
          "scattergl": [
           {
            "marker": {
             "colorbar": {
              "outlinewidth": 0,
              "ticks": ""
             }
            },
            "type": "scattergl"
           }
          ],
          "scattermapbox": [
           {
            "marker": {
             "colorbar": {
              "outlinewidth": 0,
              "ticks": ""
             }
            },
            "type": "scattermapbox"
           }
          ],
          "scatterpolar": [
           {
            "marker": {
             "colorbar": {
              "outlinewidth": 0,
              "ticks": ""
             }
            },
            "type": "scatterpolar"
           }
          ],
          "scatterpolargl": [
           {
            "marker": {
             "colorbar": {
              "outlinewidth": 0,
              "ticks": ""
             }
            },
            "type": "scatterpolargl"
           }
          ],
          "scatterternary": [
           {
            "marker": {
             "colorbar": {
              "outlinewidth": 0,
              "ticks": ""
             }
            },
            "type": "scatterternary"
           }
          ],
          "surface": [
           {
            "colorbar": {
             "outlinewidth": 0,
             "ticks": ""
            },
            "colorscale": [
             [
              0,
              "#0d0887"
             ],
             [
              0.1111111111111111,
              "#46039f"
             ],
             [
              0.2222222222222222,
              "#7201a8"
             ],
             [
              0.3333333333333333,
              "#9c179e"
             ],
             [
              0.4444444444444444,
              "#bd3786"
             ],
             [
              0.5555555555555556,
              "#d8576b"
             ],
             [
              0.6666666666666666,
              "#ed7953"
             ],
             [
              0.7777777777777778,
              "#fb9f3a"
             ],
             [
              0.8888888888888888,
              "#fdca26"
             ],
             [
              1,
              "#f0f921"
             ]
            ],
            "type": "surface"
           }
          ],
          "table": [
           {
            "cells": {
             "fill": {
              "color": "#EBF0F8"
             },
             "line": {
              "color": "white"
             }
            },
            "header": {
             "fill": {
              "color": "#C8D4E3"
             },
             "line": {
              "color": "white"
             }
            },
            "type": "table"
           }
          ]
         },
         "layout": {
          "annotationdefaults": {
           "arrowcolor": "#2a3f5f",
           "arrowhead": 0,
           "arrowwidth": 1
          },
          "autotypenumbers": "strict",
          "coloraxis": {
           "colorbar": {
            "outlinewidth": 0,
            "ticks": ""
           }
          },
          "colorscale": {
           "diverging": [
            [
             0,
             "#8e0152"
            ],
            [
             0.1,
             "#c51b7d"
            ],
            [
             0.2,
             "#de77ae"
            ],
            [
             0.3,
             "#f1b6da"
            ],
            [
             0.4,
             "#fde0ef"
            ],
            [
             0.5,
             "#f7f7f7"
            ],
            [
             0.6,
             "#e6f5d0"
            ],
            [
             0.7,
             "#b8e186"
            ],
            [
             0.8,
             "#7fbc41"
            ],
            [
             0.9,
             "#4d9221"
            ],
            [
             1,
             "#276419"
            ]
           ],
           "sequential": [
            [
             0,
             "#0d0887"
            ],
            [
             0.1111111111111111,
             "#46039f"
            ],
            [
             0.2222222222222222,
             "#7201a8"
            ],
            [
             0.3333333333333333,
             "#9c179e"
            ],
            [
             0.4444444444444444,
             "#bd3786"
            ],
            [
             0.5555555555555556,
             "#d8576b"
            ],
            [
             0.6666666666666666,
             "#ed7953"
            ],
            [
             0.7777777777777778,
             "#fb9f3a"
            ],
            [
             0.8888888888888888,
             "#fdca26"
            ],
            [
             1,
             "#f0f921"
            ]
           ],
           "sequentialminus": [
            [
             0,
             "#0d0887"
            ],
            [
             0.1111111111111111,
             "#46039f"
            ],
            [
             0.2222222222222222,
             "#7201a8"
            ],
            [
             0.3333333333333333,
             "#9c179e"
            ],
            [
             0.4444444444444444,
             "#bd3786"
            ],
            [
             0.5555555555555556,
             "#d8576b"
            ],
            [
             0.6666666666666666,
             "#ed7953"
            ],
            [
             0.7777777777777778,
             "#fb9f3a"
            ],
            [
             0.8888888888888888,
             "#fdca26"
            ],
            [
             1,
             "#f0f921"
            ]
           ]
          },
          "colorway": [
           "#636efa",
           "#EF553B",
           "#00cc96",
           "#ab63fa",
           "#FFA15A",
           "#19d3f3",
           "#FF6692",
           "#B6E880",
           "#FF97FF",
           "#FECB52"
          ],
          "font": {
           "color": "#2a3f5f"
          },
          "geo": {
           "bgcolor": "white",
           "lakecolor": "white",
           "landcolor": "#E5ECF6",
           "showlakes": true,
           "showland": true,
           "subunitcolor": "white"
          },
          "hoverlabel": {
           "align": "left"
          },
          "hovermode": "closest",
          "mapbox": {
           "style": "light"
          },
          "paper_bgcolor": "white",
          "plot_bgcolor": "#E5ECF6",
          "polar": {
           "angularaxis": {
            "gridcolor": "white",
            "linecolor": "white",
            "ticks": ""
           },
           "bgcolor": "#E5ECF6",
           "radialaxis": {
            "gridcolor": "white",
            "linecolor": "white",
            "ticks": ""
           }
          },
          "scene": {
           "xaxis": {
            "backgroundcolor": "#E5ECF6",
            "gridcolor": "white",
            "gridwidth": 2,
            "linecolor": "white",
            "showbackground": true,
            "ticks": "",
            "zerolinecolor": "white"
           },
           "yaxis": {
            "backgroundcolor": "#E5ECF6",
            "gridcolor": "white",
            "gridwidth": 2,
            "linecolor": "white",
            "showbackground": true,
            "ticks": "",
            "zerolinecolor": "white"
           },
           "zaxis": {
            "backgroundcolor": "#E5ECF6",
            "gridcolor": "white",
            "gridwidth": 2,
            "linecolor": "white",
            "showbackground": true,
            "ticks": "",
            "zerolinecolor": "white"
           }
          },
          "shapedefaults": {
           "line": {
            "color": "#2a3f5f"
           }
          },
          "ternary": {
           "aaxis": {
            "gridcolor": "white",
            "linecolor": "white",
            "ticks": ""
           },
           "baxis": {
            "gridcolor": "white",
            "linecolor": "white",
            "ticks": ""
           },
           "bgcolor": "#E5ECF6",
           "caxis": {
            "gridcolor": "white",
            "linecolor": "white",
            "ticks": ""
           }
          },
          "title": {
           "x": 0.05
          },
          "xaxis": {
           "automargin": true,
           "gridcolor": "white",
           "linecolor": "white",
           "ticks": "",
           "title": {
            "standoff": 15
           },
           "zerolinecolor": "white",
           "zerolinewidth": 2
          },
          "yaxis": {
           "automargin": true,
           "gridcolor": "white",
           "linecolor": "white",
           "ticks": "",
           "title": {
            "standoff": 15
           },
           "zerolinecolor": "white",
           "zerolinewidth": 2
          }
         }
        },
        "title": {
         "text": "Percentage of each emotion",
         "x": 0.45,
         "y": 0.9
        }
       }
      },
      "text/html": [
       "<div>                            <div id=\"27661fc0-7d22-4c39-b114-9eb6f1642406\" class=\"plotly-graph-div\" style=\"height:525px; width:100%;\"></div>            <script type=\"text/javascript\">                require([\"plotly\"], function(Plotly) {                    window.PLOTLYENV=window.PLOTLYENV || {};                                    if (document.getElementById(\"27661fc0-7d22-4c39-b114-9eb6f1642406\")) {                    Plotly.newPlot(                        \"27661fc0-7d22-4c39-b114-9eb6f1642406\",                        [{\"insidetextorientation\":\"radial\",\"labels\":[\"empty\",\"sadness\",\"enthusiasm\",\"neutral\",\"worry\",\"surprise\",\"love\",\"fun\",\"hate\",\"happiness\"],\"pull\":[0,0,0,0,0,0,0,0.1,0.2,0.3],\"textinfo\":\"label+percent\",\"values\":[8638,8459,5209,5165,3842,2187,1776,1526,1323,827],\"type\":\"pie\"}],                        {\"template\":{\"data\":{\"bar\":[{\"error_x\":{\"color\":\"#2a3f5f\"},\"error_y\":{\"color\":\"#2a3f5f\"},\"marker\":{\"line\":{\"color\":\"#E5ECF6\",\"width\":0.5},\"pattern\":{\"fillmode\":\"overlay\",\"size\":10,\"solidity\":0.2}},\"type\":\"bar\"}],\"barpolar\":[{\"marker\":{\"line\":{\"color\":\"#E5ECF6\",\"width\":0.5},\"pattern\":{\"fillmode\":\"overlay\",\"size\":10,\"solidity\":0.2}},\"type\":\"barpolar\"}],\"carpet\":[{\"aaxis\":{\"endlinecolor\":\"#2a3f5f\",\"gridcolor\":\"white\",\"linecolor\":\"white\",\"minorgridcolor\":\"white\",\"startlinecolor\":\"#2a3f5f\"},\"baxis\":{\"endlinecolor\":\"#2a3f5f\",\"gridcolor\":\"white\",\"linecolor\":\"white\",\"minorgridcolor\":\"white\",\"startlinecolor\":\"#2a3f5f\"},\"type\":\"carpet\"}],\"choropleth\":[{\"colorbar\":{\"outlinewidth\":0,\"ticks\":\"\"},\"type\":\"choropleth\"}],\"contour\":[{\"colorbar\":{\"outlinewidth\":0,\"ticks\":\"\"},\"colorscale\":[[0.0,\"#0d0887\"],[0.1111111111111111,\"#46039f\"],[0.2222222222222222,\"#7201a8\"],[0.3333333333333333,\"#9c179e\"],[0.4444444444444444,\"#bd3786\"],[0.5555555555555556,\"#d8576b\"],[0.6666666666666666,\"#ed7953\"],[0.7777777777777778,\"#fb9f3a\"],[0.8888888888888888,\"#fdca26\"],[1.0,\"#f0f921\"]],\"type\":\"contour\"}],\"contourcarpet\":[{\"colorbar\":{\"outlinewidth\":0,\"ticks\":\"\"},\"type\":\"contourcarpet\"}],\"heatmap\":[{\"colorbar\":{\"outlinewidth\":0,\"ticks\":\"\"},\"colorscale\":[[0.0,\"#0d0887\"],[0.1111111111111111,\"#46039f\"],[0.2222222222222222,\"#7201a8\"],[0.3333333333333333,\"#9c179e\"],[0.4444444444444444,\"#bd3786\"],[0.5555555555555556,\"#d8576b\"],[0.6666666666666666,\"#ed7953\"],[0.7777777777777778,\"#fb9f3a\"],[0.8888888888888888,\"#fdca26\"],[1.0,\"#f0f921\"]],\"type\":\"heatmap\"}],\"heatmapgl\":[{\"colorbar\":{\"outlinewidth\":0,\"ticks\":\"\"},\"colorscale\":[[0.0,\"#0d0887\"],[0.1111111111111111,\"#46039f\"],[0.2222222222222222,\"#7201a8\"],[0.3333333333333333,\"#9c179e\"],[0.4444444444444444,\"#bd3786\"],[0.5555555555555556,\"#d8576b\"],[0.6666666666666666,\"#ed7953\"],[0.7777777777777778,\"#fb9f3a\"],[0.8888888888888888,\"#fdca26\"],[1.0,\"#f0f921\"]],\"type\":\"heatmapgl\"}],\"histogram\":[{\"marker\":{\"pattern\":{\"fillmode\":\"overlay\",\"size\":10,\"solidity\":0.2}},\"type\":\"histogram\"}],\"histogram2d\":[{\"colorbar\":{\"outlinewidth\":0,\"ticks\":\"\"},\"colorscale\":[[0.0,\"#0d0887\"],[0.1111111111111111,\"#46039f\"],[0.2222222222222222,\"#7201a8\"],[0.3333333333333333,\"#9c179e\"],[0.4444444444444444,\"#bd3786\"],[0.5555555555555556,\"#d8576b\"],[0.6666666666666666,\"#ed7953\"],[0.7777777777777778,\"#fb9f3a\"],[0.8888888888888888,\"#fdca26\"],[1.0,\"#f0f921\"]],\"type\":\"histogram2d\"}],\"histogram2dcontour\":[{\"colorbar\":{\"outlinewidth\":0,\"ticks\":\"\"},\"colorscale\":[[0.0,\"#0d0887\"],[0.1111111111111111,\"#46039f\"],[0.2222222222222222,\"#7201a8\"],[0.3333333333333333,\"#9c179e\"],[0.4444444444444444,\"#bd3786\"],[0.5555555555555556,\"#d8576b\"],[0.6666666666666666,\"#ed7953\"],[0.7777777777777778,\"#fb9f3a\"],[0.8888888888888888,\"#fdca26\"],[1.0,\"#f0f921\"]],\"type\":\"histogram2dcontour\"}],\"mesh3d\":[{\"colorbar\":{\"outlinewidth\":0,\"ticks\":\"\"},\"type\":\"mesh3d\"}],\"parcoords\":[{\"line\":{\"colorbar\":{\"outlinewidth\":0,\"ticks\":\"\"}},\"type\":\"parcoords\"}],\"pie\":[{\"automargin\":true,\"type\":\"pie\"}],\"scatter\":[{\"marker\":{\"colorbar\":{\"outlinewidth\":0,\"ticks\":\"\"}},\"type\":\"scatter\"}],\"scatter3d\":[{\"line\":{\"colorbar\":{\"outlinewidth\":0,\"ticks\":\"\"}},\"marker\":{\"colorbar\":{\"outlinewidth\":0,\"ticks\":\"\"}},\"type\":\"scatter3d\"}],\"scattercarpet\":[{\"marker\":{\"colorbar\":{\"outlinewidth\":0,\"ticks\":\"\"}},\"type\":\"scattercarpet\"}],\"scattergeo\":[{\"marker\":{\"colorbar\":{\"outlinewidth\":0,\"ticks\":\"\"}},\"type\":\"scattergeo\"}],\"scattergl\":[{\"marker\":{\"colorbar\":{\"outlinewidth\":0,\"ticks\":\"\"}},\"type\":\"scattergl\"}],\"scattermapbox\":[{\"marker\":{\"colorbar\":{\"outlinewidth\":0,\"ticks\":\"\"}},\"type\":\"scattermapbox\"}],\"scatterpolar\":[{\"marker\":{\"colorbar\":{\"outlinewidth\":0,\"ticks\":\"\"}},\"type\":\"scatterpolar\"}],\"scatterpolargl\":[{\"marker\":{\"colorbar\":{\"outlinewidth\":0,\"ticks\":\"\"}},\"type\":\"scatterpolargl\"}],\"scatterternary\":[{\"marker\":{\"colorbar\":{\"outlinewidth\":0,\"ticks\":\"\"}},\"type\":\"scatterternary\"}],\"surface\":[{\"colorbar\":{\"outlinewidth\":0,\"ticks\":\"\"},\"colorscale\":[[0.0,\"#0d0887\"],[0.1111111111111111,\"#46039f\"],[0.2222222222222222,\"#7201a8\"],[0.3333333333333333,\"#9c179e\"],[0.4444444444444444,\"#bd3786\"],[0.5555555555555556,\"#d8576b\"],[0.6666666666666666,\"#ed7953\"],[0.7777777777777778,\"#fb9f3a\"],[0.8888888888888888,\"#fdca26\"],[1.0,\"#f0f921\"]],\"type\":\"surface\"}],\"table\":[{\"cells\":{\"fill\":{\"color\":\"#EBF0F8\"},\"line\":{\"color\":\"white\"}},\"header\":{\"fill\":{\"color\":\"#C8D4E3\"},\"line\":{\"color\":\"white\"}},\"type\":\"table\"}]},\"layout\":{\"annotationdefaults\":{\"arrowcolor\":\"#2a3f5f\",\"arrowhead\":0,\"arrowwidth\":1},\"autotypenumbers\":\"strict\",\"coloraxis\":{\"colorbar\":{\"outlinewidth\":0,\"ticks\":\"\"}},\"colorscale\":{\"diverging\":[[0,\"#8e0152\"],[0.1,\"#c51b7d\"],[0.2,\"#de77ae\"],[0.3,\"#f1b6da\"],[0.4,\"#fde0ef\"],[0.5,\"#f7f7f7\"],[0.6,\"#e6f5d0\"],[0.7,\"#b8e186\"],[0.8,\"#7fbc41\"],[0.9,\"#4d9221\"],[1,\"#276419\"]],\"sequential\":[[0.0,\"#0d0887\"],[0.1111111111111111,\"#46039f\"],[0.2222222222222222,\"#7201a8\"],[0.3333333333333333,\"#9c179e\"],[0.4444444444444444,\"#bd3786\"],[0.5555555555555556,\"#d8576b\"],[0.6666666666666666,\"#ed7953\"],[0.7777777777777778,\"#fb9f3a\"],[0.8888888888888888,\"#fdca26\"],[1.0,\"#f0f921\"]],\"sequentialminus\":[[0.0,\"#0d0887\"],[0.1111111111111111,\"#46039f\"],[0.2222222222222222,\"#7201a8\"],[0.3333333333333333,\"#9c179e\"],[0.4444444444444444,\"#bd3786\"],[0.5555555555555556,\"#d8576b\"],[0.6666666666666666,\"#ed7953\"],[0.7777777777777778,\"#fb9f3a\"],[0.8888888888888888,\"#fdca26\"],[1.0,\"#f0f921\"]]},\"colorway\":[\"#636efa\",\"#EF553B\",\"#00cc96\",\"#ab63fa\",\"#FFA15A\",\"#19d3f3\",\"#FF6692\",\"#B6E880\",\"#FF97FF\",\"#FECB52\"],\"font\":{\"color\":\"#2a3f5f\"},\"geo\":{\"bgcolor\":\"white\",\"lakecolor\":\"white\",\"landcolor\":\"#E5ECF6\",\"showlakes\":true,\"showland\":true,\"subunitcolor\":\"white\"},\"hoverlabel\":{\"align\":\"left\"},\"hovermode\":\"closest\",\"mapbox\":{\"style\":\"light\"},\"paper_bgcolor\":\"white\",\"plot_bgcolor\":\"#E5ECF6\",\"polar\":{\"angularaxis\":{\"gridcolor\":\"white\",\"linecolor\":\"white\",\"ticks\":\"\"},\"bgcolor\":\"#E5ECF6\",\"radialaxis\":{\"gridcolor\":\"white\",\"linecolor\":\"white\",\"ticks\":\"\"}},\"scene\":{\"xaxis\":{\"backgroundcolor\":\"#E5ECF6\",\"gridcolor\":\"white\",\"gridwidth\":2,\"linecolor\":\"white\",\"showbackground\":true,\"ticks\":\"\",\"zerolinecolor\":\"white\"},\"yaxis\":{\"backgroundcolor\":\"#E5ECF6\",\"gridcolor\":\"white\",\"gridwidth\":2,\"linecolor\":\"white\",\"showbackground\":true,\"ticks\":\"\",\"zerolinecolor\":\"white\"},\"zaxis\":{\"backgroundcolor\":\"#E5ECF6\",\"gridcolor\":\"white\",\"gridwidth\":2,\"linecolor\":\"white\",\"showbackground\":true,\"ticks\":\"\",\"zerolinecolor\":\"white\"}},\"shapedefaults\":{\"line\":{\"color\":\"#2a3f5f\"}},\"ternary\":{\"aaxis\":{\"gridcolor\":\"white\",\"linecolor\":\"white\",\"ticks\":\"\"},\"baxis\":{\"gridcolor\":\"white\",\"linecolor\":\"white\",\"ticks\":\"\"},\"bgcolor\":\"#E5ECF6\",\"caxis\":{\"gridcolor\":\"white\",\"linecolor\":\"white\",\"ticks\":\"\"}},\"title\":{\"x\":0.05},\"xaxis\":{\"automargin\":true,\"gridcolor\":\"white\",\"linecolor\":\"white\",\"ticks\":\"\",\"title\":{\"standoff\":15},\"zerolinecolor\":\"white\",\"zerolinewidth\":2},\"yaxis\":{\"automargin\":true,\"gridcolor\":\"white\",\"linecolor\":\"white\",\"ticks\":\"\",\"title\":{\"standoff\":15},\"zerolinecolor\":\"white\",\"zerolinewidth\":2}}},\"title\":{\"text\":\"Percentage of each emotion\",\"x\":0.45,\"y\":0.9}},                        {\"responsive\": true}                    ).then(function(){\n",
       "                            \n",
       "var gd = document.getElementById('27661fc0-7d22-4c39-b114-9eb6f1642406');\n",
       "var x = new MutationObserver(function (mutations, observer) {{\n",
       "        var display = window.getComputedStyle(gd).display;\n",
       "        if (!display || display === 'none') {{\n",
       "            console.log([gd, 'removed!']);\n",
       "            Plotly.purge(gd);\n",
       "            observer.disconnect();\n",
       "        }}\n",
       "}});\n",
       "\n",
       "// Listen for the removal of the full notebook cells\n",
       "var notebookContainer = gd.closest('#notebook-container');\n",
       "if (notebookContainer) {{\n",
       "    x.observe(notebookContainer, {childList: true});\n",
       "}}\n",
       "\n",
       "// Listen for the clearing of the current output cell\n",
       "var outputEl = gd.closest('.output');\n",
       "if (outputEl) {{\n",
       "    x.observe(outputEl, {childList: true});\n",
       "}}\n",
       "\n",
       "                        })                };                });            </script>        </div>"
      ]
     },
     "metadata": {},
     "output_type": "display_data"
    },
    {
     "data": {
      "image/png": "[encoded data removed]",
      "text/plain": [
       "<Figure size 864x432 with 2 Axes>"
      ]
     },
     "metadata": {
      "needs_background": "light"
     },
     "output_type": "display_data"
    },
    {
     "data": {
      "image/png": "[encoded data removed]",
      "text/plain": [
       "<Figure size 864x432 with 2 Axes>"
      ]
     },
     "metadata": {
      "needs_background": "light"
     },
     "output_type": "display_data"
    },
    {
     "data": {
      "image/png": "[encoded data removed]",
      "text/plain": [
       "<Figure size 1008x432 with 2 Axes>"
      ]
     },
     "metadata": {
      "needs_background": "light"
     },
     "output_type": "display_data"
    },
    {
     "data": {
      "image/png": "[encoded data removed]",
      "text/plain": [
       "<Figure size 1008x432 with 2 Axes>"
      ]
     },
     "metadata": {
      "needs_background": "light"
     },
     "output_type": "display_data"
    }
   ],
   "source": [
    "import plotly.graph_objects as go\n",
    "col = 'sentiment'\n",
    "explode = list((np.array(list(processed_data[col].dropna().value_counts()))/sum(list(processed_data[col].dropna().value_counts())))[::-1])[:10]\n",
    "labels = list(processed_data[col].dropna().unique())[:10]\n",
    "sizes = processed_data[col].value_counts()[:10]\n",
    "fig = go.Figure(data=[go.Pie(labels=labels, values=sizes, textinfo='label+percent',\n",
    "                             insidetextorientation='radial', pull=[0,0,0,0,0,0,0,0.1,0.2,0.3]\n",
    "                            )])\n",
    "fig.update_layout(title_text='Percentage of each emotion',title_x=0.45 ,title_y=0.9)\n",
    "fig.show()\n",
    "\n",
    "#########################################################################################################################\n",
    "\n",
    "processed_data['char_length'] = processed_data['content'].apply(lambda x : len(x))\n",
    "processed_data['word_length'] = processed_data['content'].apply(lambda x : len(x.split(\" \")))\n",
    "processed_data['sentence_length'] = processed_data[\"content\"].apply(lambda x: len(str(x).split(\".\")))\n",
    "processed_data['avg_word_length'] = processed_data['char_length'] / processed_data['word_length']\n",
    "processed_data['avg_sentence_lenght'] = processed_data['word_length'] / processed_data['sentence_length']\n",
    "processed_data.head()\n",
    "\n",
    "x = \"word_length\"\n",
    "y = \"sentiment\"\n",
    "fig, ax = plt.subplots(nrows=1, ncols=2, figsize=(12,6))\n",
    "fig.suptitle('Number of characters in the tweet for each sentiment', fontsize=12)\n",
    "for i in processed_data[y].unique():\n",
    "    sns.distplot(processed_data[processed_data[y]==i][x], hist=True, kde=False, \n",
    "                 bins=10, hist_kws={\"alpha\":0.8}, \n",
    "                 axlabel=\"histogram\", ax=ax[0])\n",
    "    sns.distplot(processed_data[processed_data[y]==i][x], hist=False, kde=True, \n",
    "                 kde_kws={\"shade\":True}, axlabel=\"density\",   \n",
    "                 ax=ax[1])\n",
    "ax[0].grid(True)\n",
    "ax[0].legend(processed_data[y].unique())\n",
    "ax[1].grid(True)\n",
    "plt.show()\n",
    "\n",
    "#########################################################################################################################\n",
    "\n",
    "fig, (ax1, ax2)  = plt.subplots(nrows=1, ncols=2, figsize=(12,6))\n",
    "sns.distplot(processed_data['char_length'], ax=ax1, color='red')\n",
    "sns.distplot(processed_data['word_length'], ax=ax2, color='red')\n",
    "ax1.set_title('Number of characters in the tweet')\n",
    "ax2.set_title('Number of words in the tweet')\n",
    "plt.show()\n",
    "\n",
    "#########################################################################################################################\n",
    "\n",
    "corpus = processed_data[processed_data[\"sentiment\"]==\"worry\"][\"content\"]\n",
    "lst_tokens = nltk.tokenize.word_tokenize(corpus.str.cat(sep=\" \"))\n",
    "fig, ax = plt.subplots(nrows=1, ncols=2, figsize=(14,6))\n",
    "fig.suptitle(\"Most frequent words for anger 😡 \", fontsize=15)\n",
    " \n",
    "    \n",
    "## unigrams\n",
    "dic_words_freq = nltk.FreqDist(lst_tokens)\n",
    "dtf_uni = pd.DataFrame(dic_words_freq.most_common(), \n",
    "                       columns=[\"Word\",\"Freq\"])\n",
    "dtf_uni.set_index(\"Word\").iloc[:6,:].sort_values(by=\"Freq\").plot(\n",
    "                  kind=\"barh\", title=\"Unigrams\", ax=ax[0], \n",
    "                  legend=False).grid(axis='x')\n",
    "ax[0].set(ylabel=None)\n",
    "    \n",
    "## bigrams\n",
    "dic_words_freq = nltk.FreqDist(nltk.ngrams(lst_tokens, 2))\n",
    "dtf_bi = pd.DataFrame(dic_words_freq.most_common(), \n",
    "                      columns=[\"Word\",\"Freq\"])\n",
    "dtf_bi[\"Word\"] = dtf_bi[\"Word\"].apply(lambda x: \" \".join(\n",
    "                   string for string in x) )\n",
    "dtf_bi.set_index(\"Word\").iloc[:6,:].sort_values(by=\"Freq\").plot(\n",
    "                  kind=\"barh\", title=\"Bigrams\", ax=ax[1],\n",
    "                  legend=False).grid(axis='x')\n",
    "ax[1].set(ylabel=None)\n",
    "plt.show()\n",
    "\n",
    "#########################################################################################################################\n",
    "\n",
    "corpus = processed_data[processed_data[\"sentiment\"]==\"happiness\"][\"content\"]\n",
    "lst_tokens = nltk.tokenize.word_tokenize(corpus.str.cat(sep=\" \"))\n",
    "fig, ax = plt.subplots(nrows=1, ncols=2, figsize=(14,6))\n",
    "fig.suptitle(\"Most frequent words for happiness 😄 \", fontsize=15)   \n",
    "## unigrams\n",
    "dic_words_freq = nltk.FreqDist(lst_tokens)\n",
    "dtf_uni = pd.DataFrame(dic_words_freq.most_common(), \n",
    "                       columns=[\"Word\",\"Freq\"])\n",
    "dtf_uni.set_index(\"Word\").iloc[:6,:].sort_values(by=\"Freq\").plot(\n",
    "                  kind=\"barh\", title=\"Unigrams\", ax=ax[0], \n",
    "                  legend=False).grid(axis='x')\n",
    "ax[0].set(ylabel=None)\n",
    "## bigrams\n",
    "dic_words_freq = nltk.FreqDist(nltk.ngrams(lst_tokens, 2))\n",
    "dtf_bi = pd.DataFrame(dic_words_freq.most_common(), \n",
    "                      columns=[\"Word\",\"Freq\"])\n",
    "dtf_bi[\"Word\"] = dtf_bi[\"Word\"].apply(lambda x: \" \".join(\n",
    "                   string for string in x) )\n",
    "dtf_bi.set_index(\"Word\").iloc[:6,:].sort_values(by=\"Freq\").plot(\n",
    "                  kind=\"barh\", title=\"Bigrams\", ax=ax[1],\n",
    "                  legend=False).grid(axis='x')\n",
    "ax[1].set(ylabel=None)\n",
    "plt.show()"
   ]
  },
  {
   "cell_type": "markdown",
   "id": "b67e3f0a",
   "metadata": {},
   "source": [
    "# Count Vectorizer vs TFIDF Vectorizer vs Bag of Words"
   ]
  },
  {
   "cell_type": "code",
   "execution_count": 15,
   "id": "193d39ea",
   "metadata": {
    "scrolled": false
   },
   "outputs": [
    {
     "name": "stdout",
     "output_type": "stream",
     "text": [
      "LogisticRegression()\n",
      "\n",
      "\n",
      "Validation result for 9000 features\n",
      "accuracy score: 33.15%\n",
      "train and test time: 70.48s\n",
      "Validation result for 10000 features\n",
      "accuracy score: 33.20%\n",
      "train and test time: 41.76s\n",
      "Validation result for 11000 features\n",
      "accuracy score: 33.25%\n",
      "train and test time: 48.35s\n",
      "Validation result for 12000 features\n",
      "accuracy score: 33.65%\n",
      "train and test time: 92.45s\n",
      "Validation result for 13000 features\n",
      "accuracy score: 33.55%\n",
      "train and test time: 92.57s\n",
      "Validation result for 14000 features\n",
      "accuracy score: 33.40%\n",
      "train and test time: 72.16s\n",
      "LogisticRegression()\n",
      "\n",
      "\n",
      "Validation result for 9000 features\n",
      "accuracy score: 31.55%\n",
      "train and test time: 112.36s\n",
      "Validation result for 10000 features\n",
      "accuracy score: 31.35%\n",
      "train and test time: 17.00s\n",
      "Validation result for 11000 features\n",
      "accuracy score: 31.20%\n",
      "train and test time: 54.96s\n",
      "Validation result for 12000 features\n",
      "accuracy score: 31.15%\n",
      "train and test time: 40.57s\n",
      "Validation result for 13000 features\n",
      "accuracy score: 31.40%\n",
      "train and test time: 29.04s\n",
      "Validation result for 14000 features\n",
      "accuracy score: 31.00%\n",
      "train and test time: 62.24s\n",
      "LogisticRegression()\n",
      "\n",
      "\n",
      "Validation result for 9000 features\n",
      "accuracy score: 31.45%\n",
      "train and test time: 54.54s\n",
      "Validation result for 10000 features\n",
      "accuracy score: 31.65%\n",
      "train and test time: 58.63s\n",
      "Validation result for 11000 features\n",
      "accuracy score: 31.60%\n",
      "train and test time: 23.40s\n",
      "Validation result for 12000 features\n",
      "accuracy score: 31.60%\n",
      "train and test time: 51.20s\n",
      "Validation result for 13000 features\n",
      "accuracy score: 31.65%\n",
      "train and test time: 113.52s\n",
      "Validation result for 14000 features\n",
      "accuracy score: 31.55%\n",
      "train and test time: 63.12s\n",
      "LogisticRegression()\n",
      "\n",
      "\n",
      "Validation result for 9000 features\n",
      "accuracy score: 33.60%\n",
      "train and test time: 99.36s\n",
      "Validation result for 10000 features\n",
      "accuracy score: 34.55%\n",
      "train and test time: 109.26s\n",
      "Validation result for 11000 features\n",
      "accuracy score: 34.35%\n",
      "train and test time: 96.92s\n",
      "Validation result for 12000 features\n",
      "accuracy score: 34.60%\n",
      "train and test time: 83.93s\n",
      "Validation result for 13000 features\n",
      "accuracy score: 34.00%\n",
      "train and test time: 51.37s\n",
      "Validation result for 14000 features\n",
      "accuracy score: 34.60%\n",
      "train and test time: 42.57s\n",
      "LogisticRegression()\n",
      "\n",
      "\n",
      "Validation result for 9000 features\n",
      "accuracy score: 32.35%\n",
      "train and test time: 23.38s\n",
      "Validation result for 10000 features\n",
      "accuracy score: 32.70%\n",
      "train and test time: 34.52s\n",
      "Validation result for 11000 features\n",
      "accuracy score: 32.35%\n",
      "train and test time: 58.17s\n",
      "Validation result for 12000 features\n",
      "accuracy score: 31.85%\n",
      "train and test time: 37.87s\n",
      "Validation result for 13000 features\n",
      "accuracy score: 31.50%\n",
      "train and test time: 116.23s\n",
      "Validation result for 14000 features\n",
      "accuracy score: 31.35%\n",
      "train and test time: 115.31s\n",
      "LogisticRegression()\n",
      "\n",
      "\n",
      "Validation result for 9000 features\n",
      "accuracy score: 32.25%\n",
      "train and test time: 45.57s\n",
      "Validation result for 10000 features\n",
      "accuracy score: 32.65%\n",
      "train and test time: 23.94s\n",
      "Validation result for 11000 features\n",
      "accuracy score: 32.30%\n",
      "train and test time: 35.67s\n",
      "Validation result for 12000 features\n",
      "accuracy score: 32.40%\n",
      "train and test time: 39.34s\n",
      "Validation result for 13000 features\n",
      "accuracy score: 32.40%\n",
      "train and test time: 43.80s\n",
      "Validation result for 14000 features\n",
      "accuracy score: 31.85%\n",
      "train and test time: 25.06s\n"
     ]
    },
    {
     "data": {
      "text/plain": [
       "<matplotlib.legend.Legend at 0x1b681051a00>"
      ]
     },
     "execution_count": 15,
     "metadata": {},
     "output_type": "execute_result"
    },
    {
     "data": {
      "image/png": "[encoded data removed]",
      "text/plain": [
       "<Figure size 576x432 with 1 Axes>"
      ]
     },
     "metadata": {
      "needs_background": "light"
     },
     "output_type": "display_data"
    }
   ],
   "source": [
    "#Train-Test Split\n",
    "X = processed_data.content\n",
    "y = processed_data.sentiment\n",
    "from sklearn.model_selection import train_test_split # data split\n",
    "x_train, x_test, y_train, y_test = train_test_split(X, y, test_size=.05, random_state=1)\n",
    "\n",
    "def accuracy_summary(pipeline, x_train, y_train, x_test, y_test):\n",
    "    t0 = time()\n",
    "    sentiment_fit = pipeline.fit(x_train, y_train)\n",
    "    y_pred = sentiment_fit.predict(x_test)\n",
    "    train_test_time = time() - t0\n",
    "    accuracy = accuracy_score(y_test, y_pred)\n",
    "    print (\"accuracy score: {0:.2f}%\".format(accuracy*100))\n",
    "    print (\"train and test time: {0:.2f}s\".format(train_test_time))\n",
    "    return accuracy, train_test_time\n",
    "\n",
    "cvec = CountVectorizer()\n",
    "lr = LogisticRegression()\n",
    "n_features = np.arange(9000,15000,1000)\n",
    "\n",
    "def nfeature_accuracy_checker(vectorizer=cvec, n_features=n_features, stop_words=None, ngram_range=(1, 1), classifier=lr):\n",
    "    result = []\n",
    "    print (classifier)\n",
    "    print (\"\\n\")\n",
    "    for n in n_features:\n",
    "        vectorizer.set_params(stop_words=stop_words, max_features=n, ngram_range=ngram_range)\n",
    "        checker_pipeline = Pipeline([\n",
    "            ('vectorizer', vectorizer),\n",
    "            ('classifier', classifier)\n",
    "        ])\n",
    "        print (\"Validation result for {} features\".format(n))\n",
    "        nfeature_accuracy,tt_time = accuracy_summary(checker_pipeline, x_train, y_train, x_test, y_test)\n",
    "        result.append((n,nfeature_accuracy,tt_time))\n",
    "    return result\n",
    "\n",
    "\n",
    "from sklearn.feature_extraction.text import TfidfVectorizer\n",
    "tvec = TfidfVectorizer()\n",
    "\n",
    "\n",
    "feature_result_ug = nfeature_accuracy_checker()\n",
    "feature_result_bg = nfeature_accuracy_checker(ngram_range=(1, 2))\n",
    "feature_result_tg = nfeature_accuracy_checker(ngram_range=(1, 3))\n",
    "feature_result_ugt = nfeature_accuracy_checker(vectorizer=tvec)\n",
    "feature_result_bgt = nfeature_accuracy_checker(vectorizer=tvec,ngram_range=(1, 2))\n",
    "feature_result_tgt = nfeature_accuracy_checker(vectorizer=tvec,ngram_range=(1, 3))\n",
    "\n",
    "\n",
    "nfeatures_plot_tg = pd.DataFrame(feature_result_tg,columns=['nfeatures','validation_accuracy','train_test_time'])\n",
    "nfeatures_plot_bg = pd.DataFrame(feature_result_bg,columns=['nfeatures','validation_accuracy','train_test_time'])\n",
    "nfeatures_plot_ug = pd.DataFrame(feature_result_ug,columns=['nfeatures','validation_accuracy','train_test_time'])\n",
    "nfeatures_plot_tgt = pd.DataFrame(feature_result_tgt,columns=['nfeatures','validation_accuracy','train_test_time'])\n",
    "nfeatures_plot_bgt = pd.DataFrame(feature_result_bgt,columns=['nfeatures','validation_accuracy','train_test_time'])\n",
    "nfeatures_plot_ugt = pd.DataFrame(feature_result_ugt,columns=['nfeatures','validation_accuracy','train_test_time'])\n",
    "\n",
    "plt.figure(figsize=(8,6))\n",
    "plt.plot(nfeatures_plot_tgt.nfeatures, nfeatures_plot_tgt.validation_accuracy,label='trigram tfidf vectorizer',color='royalblue')\n",
    "plt.plot(nfeatures_plot_tg.nfeatures, nfeatures_plot_tg.validation_accuracy,label='trigram count vectorizer',linestyle=':', color='royalblue')\n",
    "plt.plot(nfeatures_plot_bgt.nfeatures, nfeatures_plot_bgt.validation_accuracy,label='bigram tfidf vectorizer',color='orangered')\n",
    "plt.plot(nfeatures_plot_bg.nfeatures, nfeatures_plot_bg.validation_accuracy,label='bigram count vectorizer',linestyle=':',color='orangered')\n",
    "plt.plot(nfeatures_plot_ugt.nfeatures, nfeatures_plot_ugt.validation_accuracy, label='unigram tfidf vectorizer',color='gold')\n",
    "plt.plot(nfeatures_plot_ug.nfeatures, nfeatures_plot_ug.validation_accuracy, label='unigram count vectorizer',linestyle=':',color='gold')\n",
    "plt.title(\"N-gram(1~3) test result : Accuracy\")\n",
    "plt.xlabel(\"Number of features\")\n",
    "plt.ylabel(\"Validation set accuracy\")\n",
    "plt.legend()\n",
    "\n",
    "\n",
    "# From below chart, we can see including bigram and trigram boost the model performance both in count vectorizer and TFIDF \n",
    "# vectorizer. And for every case of unigram to trigram, TFIDF yields better results than count vectorizer."
   ]
  },
  {
   "cell_type": "markdown",
   "id": "ef671d15",
   "metadata": {},
   "source": [
    "Bag of Words"
   ]
  },
  {
   "cell_type": "code",
   "execution_count": 24,
   "id": "f8ceb337",
   "metadata": {},
   "outputs": [
    {
     "name": "stderr",
     "output_type": "stream",
     "text": [
      "100%|██████████| 40000/40000 [00:00<00:00, 1822996.16it/s]\n",
      "100%|██████████| 40000/40000 [00:00<00:00, 1671137.32it/s]\n",
      "100%|██████████| 40000/40000 [00:00<00:00, 1743793.95it/s]\n",
      "100%|██████████| 40000/40000 [00:00<00:00, 1822976.36it/s]\n",
      "100%|██████████| 40000/40000 [00:00<00:00, 1822996.16it/s]\n",
      "100%|██████████| 40000/40000 [00:00<00:00, 1909778.83it/s]\n",
      "100%|██████████| 40000/40000 [00:00<00:00, 1909909.27it/s]\n",
      "100%|██████████| 40000/40000 [00:00<00:00, 1823134.83it/s]\n",
      "100%|██████████| 40000/40000 [00:00<00:00, 1823154.65it/s]\n",
      "100%|██████████| 40000/40000 [00:00<00:00, 1909887.53it/s]\n",
      "100%|██████████| 40000/40000 [00:00<00:00, 1823115.02it/s]\n",
      "100%|██████████| 40000/40000 [00:00<00:00, 1823035.78it/s]\n",
      "100%|██████████| 40000/40000 [00:00<00:00, 1743830.20it/s]\n",
      "100%|██████████| 40000/40000 [00:00<00:00, 1909800.56it/s]\n",
      "100%|██████████| 40000/40000 [00:00<00:00, 1909865.79it/s]\n",
      "100%|██████████| 40000/40000 [00:00<00:00, 1823055.59it/s]\n",
      "100%|██████████| 40000/40000 [00:00<00:00, 1823154.65it/s]\n",
      "100%|██████████| 40000/40000 [00:00<00:00, 1909822.30it/s]\n",
      "100%|██████████| 40000/40000 [00:00<00:00, 1823055.59it/s]\n",
      "100%|██████████| 40000/40000 [00:00<00:00, 1823115.02it/s]\n",
      "100%|██████████| 40000/40000 [00:00<00:00, 1823134.83it/s]\n",
      "100%|██████████| 40000/40000 [00:00<00:00, 1909778.83it/s]\n",
      "100%|██████████| 40000/40000 [00:00<00:00, 1823075.40it/s]\n",
      "100%|██████████| 40000/40000 [00:00<00:00, 1822976.36it/s]\n",
      "100%|██████████| 40000/40000 [00:00<00:00, 1822976.36it/s]\n",
      "100%|██████████| 40000/40000 [00:00<00:00, 1743775.83it/s]\n",
      "100%|██████████| 40000/40000 [00:00<00:00, 1823035.78it/s]\n",
      "100%|██████████| 40000/40000 [00:00<00:00, 1823075.40it/s]\n",
      "100%|██████████| 40000/40000 [00:00<00:00, 1909822.30it/s]\n",
      "100%|██████████| 40000/40000 [00:00<00:00, 1909844.05it/s]\n",
      "100%|██████████| 40000/40000 [00:00<00:00, 1909865.79it/s]\n"
     ]
    },
    {
     "data": {
      "text/plain": [
       "0.324"
      ]
     },
     "execution_count": 24,
     "metadata": {},
     "output_type": "execute_result"
    }
   ],
   "source": [
    "#DBOW (Distributed Bag of Words)\n",
    "from sklearn.linear_model import LogisticRegression\n",
    "from tqdm import tqdm\n",
    "tqdm.pandas(desc=\"progress-bar\")\n",
    "from gensim.models import Doc2Vec\n",
    "from gensim.models.doc2vec import TaggedDocument\n",
    "import multiprocessing\n",
    "from sklearn import utils\n",
    "\n",
    "def labelize_tweets_ug(tweets,label):\n",
    "    result = []\n",
    "    prefix = label\n",
    "    for i, t in zip(tweets.index, tweets):\n",
    "        result.append(TaggedDocument(t.split(), [prefix + '_%s' % i]))\n",
    "    return result\n",
    "  \n",
    "all_x = pd.concat([x_train,x_test])\n",
    "all_x_w2v = labelize_tweets_ug(all_x, 'all')\n",
    "\n",
    "\n",
    "cores = multiprocessing.cpu_count()\n",
    "model_ug_dbow = Doc2Vec(dm=0, min_count=2, workers=cores, alpha=0.065, min_alpha=0.065)\n",
    "model_ug_dbow.build_vocab([x for x in tqdm(all_x_w2v)])\n",
    "\n",
    "for epoch in range(30):\n",
    "    model_ug_dbow.train(utils.shuffle([x for x in tqdm(all_x_w2v)]), total_examples=len(all_x_w2v), epochs=1)\n",
    "    model_ug_dbow.alpha -= 0.002\n",
    "    model_ug_dbow.min_alpha = model_ug_dbow.alpha\n",
    "    \n",
    "def get_vectors(model, corpus, size):\n",
    "    vecs = np.zeros((len(corpus), size))\n",
    "    n = 0\n",
    "    for i in corpus.index:\n",
    "        prefix = 'all_' + str(i)\n",
    "        vecs[n] = model.docvecs[prefix]\n",
    "        n += 1\n",
    "    return vecs\n",
    "  \n",
    "train_vecs_dbow = get_vectors(model_ug_dbow, x_train, 100)\n",
    "validation_vecs_dbow = get_vectors(model_ug_dbow, x_test, 100)\n",
    "\n",
    "clf = LogisticRegression()\n",
    "clf.fit(train_vecs_dbow, y_train)\n",
    "clf.score(validation_vecs_dbow, y_test)  #The accuracy tested on the test set with logistic regression is 32.4%. "
   ]
  },
  {
   "cell_type": "code",
   "execution_count": 26,
   "id": "85d6c310",
   "metadata": {},
   "outputs": [
    {
     "name": "stderr",
     "output_type": "stream",
     "text": [
      "100%|██████████| 40000/40000 [00:00<00:00, 1743793.95it/s]\n",
      "100%|██████████| 40000/40000 [00:00<00:00, 1743920.83it/s]\n",
      "100%|██████████| 40000/40000 [00:00<00:00, 1822996.16it/s]\n",
      "100%|██████████| 40000/40000 [00:00<00:00, 1823095.21it/s]\n",
      "100%|██████████| 40000/40000 [00:00<00:00, 1822996.16it/s]\n",
      "100%|██████████| 40000/40000 [00:00<00:00, 1823075.40it/s]\n",
      "100%|██████████| 40000/40000 [00:00<00:00, 1671137.32it/s]\n",
      "100%|██████████| 40000/40000 [00:00<00:00, 1823095.21it/s]\n",
      "100%|██████████| 40000/40000 [00:00<00:00, 1743793.95it/s]\n",
      "100%|██████████| 40000/40000 [00:00<00:00, 1743703.33it/s]\n",
      "100%|██████████| 40000/40000 [00:00<00:00, 1743757.70it/s]\n",
      "100%|██████████| 40000/40000 [00:00<00:00, 1743775.83it/s]\n",
      "100%|██████████| 40000/40000 [00:00<00:00, 1822758.49it/s]\n",
      "100%|██████████| 40000/40000 [00:00<00:00, 1823015.97it/s]\n",
      "100%|██████████| 40000/40000 [00:00<00:00, 1743757.70it/s]\n",
      "100%|██████████| 40000/40000 [00:00<00:00, 1823055.59it/s]\n",
      "100%|██████████| 40000/40000 [00:00<00:00, 1823075.40it/s]\n",
      "100%|██████████| 40000/40000 [00:00<00:00, 1909822.30it/s]\n",
      "100%|██████████| 40000/40000 [00:00<00:00, 1823134.83it/s]\n",
      "100%|██████████| 40000/40000 [00:00<00:00, 1822996.16it/s]\n",
      "100%|██████████| 40000/40000 [00:00<00:00, 1823095.21it/s]\n",
      "100%|██████████| 40000/40000 [00:00<00:00, 1822916.93it/s]\n",
      "100%|██████████| 40000/40000 [00:00<00:00, 1822996.16it/s]\n",
      "100%|██████████| 40000/40000 [00:00<00:00, 1823055.59it/s]\n",
      "100%|██████████| 40000/40000 [00:00<00:00, 1822996.16it/s]\n",
      "100%|██████████| 40000/40000 [00:00<00:00, 1909822.30it/s]\n",
      "100%|██████████| 40000/40000 [00:00<00:00, 1671770.10it/s]\n",
      "100%|██████████| 40000/40000 [00:00<00:00, 1823075.40it/s]\n",
      "100%|██████████| 40000/40000 [00:00<00:00, 1743920.83it/s]\n",
      "100%|██████████| 40000/40000 [00:00<00:00, 1743667.09it/s]\n",
      "100%|██████████| 40000/40000 [00:00<00:00, 1909909.27it/s]\n"
     ]
    },
    {
     "data": {
      "text/plain": [
       "0.2725"
      ]
     },
     "execution_count": 26,
     "metadata": {},
     "output_type": "execute_result"
    }
   ],
   "source": [
    "#DMC (Distributed Memory Concatenated)\n",
    "cores = multiprocessing.cpu_count()\n",
    "model_ug_dmc = Doc2Vec(dm=1, dm_concat=1, window=2, negative=5, min_count=2, workers=cores, alpha=0.065, min_alpha=0.065)\n",
    "model_ug_dmc.build_vocab([x for x in tqdm(all_x_w2v)])\n",
    "\n",
    "for epoch in range(30):\n",
    "    model_ug_dmc.train(utils.shuffle([x for x in tqdm(all_x_w2v)]), total_examples=len(all_x_w2v), epochs=1)\n",
    "    model_ug_dmc.alpha -= 0.002\n",
    "    model_ug_dmc.min_alpha = model_ug_dmc.alpha\n",
    "   \n",
    "train_vecs_dmc = get_vectors(model_ug_dmc, x_train, 100)\n",
    "validation_vecs_dmc = get_vectors(model_ug_dmc, x_test, 100)\n",
    "\n",
    "clf = LogisticRegression()\n",
    "clf.fit(train_vecs_dmc, y_train)\n",
    "clf.score(validation_vecs_dmc, y_test)    #The accuracy tested on the test set with logistic regression is 27.25%. "
   ]
  },
  {
   "cell_type": "code",
   "execution_count": 27,
   "id": "89bc1f0d",
   "metadata": {},
   "outputs": [
    {
     "name": "stderr",
     "output_type": "stream",
     "text": [
      "100%|██████████| 40000/40000 [00:00<00:00, 1822956.55it/s]\n",
      "100%|██████████| 40000/40000 [00:00<00:00, 1604262.42it/s]\n",
      "100%|██████████| 40000/40000 [00:00<00:00, 1822976.36it/s]\n",
      "100%|██████████| 40000/40000 [00:00<00:00, 1909800.56it/s]\n",
      "100%|██████████| 40000/40000 [00:00<00:00, 1823075.40it/s]\n",
      "100%|██████████| 40000/40000 [00:00<00:00, 1909931.01it/s]\n",
      "100%|██████████| 40000/40000 [00:00<00:00, 1823035.78it/s]\n",
      "100%|██████████| 40000/40000 [00:00<00:00, 1909909.27it/s]\n",
      "100%|██████████| 40000/40000 [00:00<00:00, 1909887.53it/s]\n",
      "100%|██████████| 40000/40000 [00:00<00:00, 1822936.74it/s]\n",
      "100%|██████████| 40000/40000 [00:00<00:00, 1823075.40it/s]\n",
      "100%|██████████| 40000/40000 [00:00<00:00, 1823035.78it/s]\n",
      "100%|██████████| 40000/40000 [00:00<00:00, 1909887.53it/s]\n",
      "100%|██████████| 40000/40000 [00:00<00:00, 1822956.55it/s]\n",
      "100%|██████████| 40000/40000 [00:00<00:00, 1823115.02it/s]\n",
      "100%|██████████| 40000/40000 [00:00<00:00, 1743775.83it/s]\n",
      "100%|██████████| 40000/40000 [00:00<00:00, 1823015.97it/s]\n",
      "100%|██████████| 40000/40000 [00:00<00:00, 1823055.59it/s]\n",
      "100%|██████████| 40000/40000 [00:00<00:00, 1823055.59it/s]\n",
      "100%|██████████| 40000/40000 [00:00<00:00, 1909822.30it/s]\n",
      "100%|██████████| 40000/40000 [00:00<00:00, 1822996.16it/s]\n",
      "100%|██████████| 40000/40000 [00:00<00:00, 1743793.95it/s]\n",
      "100%|██████████| 40000/40000 [00:00<00:00, 1743540.24it/s]\n",
      "100%|██████████| 40000/40000 [00:00<00:00, 1822956.55it/s]\n",
      "100%|██████████| 40000/40000 [00:00<00:00, 1823075.40it/s]\n",
      "100%|██████████| 40000/40000 [00:00<00:00, 1823075.40it/s]\n",
      "100%|██████████| 40000/40000 [00:00<00:00, 1822956.55it/s]\n",
      "100%|██████████| 40000/40000 [00:00<00:00, 1743812.08it/s]\n",
      "100%|██████████| 40000/40000 [00:00<00:00, 1909604.93it/s]\n",
      "100%|██████████| 40000/40000 [00:00<00:00, 1822976.36it/s]\n",
      "100%|██████████| 40000/40000 [00:00<00:00, 1823115.02it/s]\n"
     ]
    },
    {
     "data": {
      "text/plain": [
       "0.316"
      ]
     },
     "execution_count": 27,
     "metadata": {},
     "output_type": "execute_result"
    }
   ],
   "source": [
    "#DMM (Distributed Memory Mean)\n",
    "cores = multiprocessing.cpu_count()\n",
    "model_ug_dmm = Doc2Vec(dm=1, dm_mean=1, window=4, negative=5, min_count=2, workers=cores, alpha=0.065, min_alpha=0.065)\n",
    "model_ug_dmm.build_vocab([x for x in tqdm(all_x_w2v)])\n",
    "\n",
    "for epoch in range(30):\n",
    "    model_ug_dmm.train(utils.shuffle([x for x in tqdm(all_x_w2v)]), total_examples=len(all_x_w2v), epochs=1)\n",
    "    model_ug_dmm.alpha -= 0.002\n",
    "    model_ug_dmm.min_alpha = model_ug_dmm.alpha\n",
    "    \n",
    "train_vecs_dmm = get_vectors(model_ug_dmm, x_train, 100)\n",
    "validation_vecs_dmm = get_vectors(model_ug_dmm, x_test, 100)\n",
    "\n",
    "clf = LogisticRegression()\n",
    "clf.fit(train_vecs_dmm, y_train)\n",
    "clf.score(validation_vecs_dmm, y_test)  #The accuracy tested on the test set with logistic regression is 31.6%. "
   ]
  },
  {
   "cell_type": "markdown",
   "id": "d8bc31e8",
   "metadata": {},
   "source": [
    "# Handling Imbalanced Data"
   ]
  },
  {
   "cell_type": "markdown",
   "id": "be8a03b5",
   "metadata": {},
   "source": [
    "Original Imbalanced Data"
   ]
  },
  {
   "cell_type": "code",
   "execution_count": 9,
   "id": "5b58e6a4",
   "metadata": {},
   "outputs": [
    {
     "name": "stdout",
     "output_type": "stream",
     "text": [
      "precision: [0.         0.         0.         0.         0.08       0.33470734\n",
      " 0.47692308 0.48592593 0.34720062 0.3        0.34699104 0.33333333\n",
      " 0.32649109]\n",
      "recall:    [0.         0.         0.         0.         0.0056338  0.39000961\n",
      " 0.11698113 0.42652796 0.51708164 0.0295082  0.26234269 0.04347826\n",
      " 0.49822695]\n",
      "f1 score:  [0.         0.         0.         0.         0.01052632 0.36024845\n",
      " 0.18787879 0.45429363 0.41544545 0.05373134 0.29878721 0.07692308\n",
      " 0.39447824]\n",
      "--------------------------------------------------\n",
      "precision: [0.         0.         0.33333333 0.         0.19354839 0.34112554\n",
      " 0.5        0.47761194 0.34376222 0.4        0.325      0.46666667\n",
      " 0.32493318]\n",
      "recall:    [0.         0.         0.0060241  0.         0.01690141 0.378119\n",
      " 0.15151515 0.41612484 0.50868056 0.05245902 0.25169409 0.04805492\n",
      " 0.50295508]\n",
      "f1 score:  [0.         0.         0.01183432 0.         0.03108808 0.35867091\n",
      " 0.23255814 0.4447533  0.41026838 0.09275362 0.28368794 0.08713693\n",
      " 0.39480399]\n",
      "--------------------------------------------------\n",
      "precision: [0.         0.         0.         0.         0.15384615 0.32548701\n",
      " 0.50793651 0.49608764 0.35711501 0.48148148 0.34005038 0.24324324\n",
      " 0.33014537]\n",
      "recall:    [0.         0.         0.         0.         0.01123596 0.38483685\n",
      " 0.12121212 0.41276042 0.53009259 0.04262295 0.26137464 0.02059497\n",
      " 0.51004728]\n",
      "f1 score:  [0.         0.         0.         0.         0.02094241 0.3526825\n",
      " 0.19571865 0.45060412 0.42674121 0.07831325 0.2955665  0.03797468\n",
      " 0.40083604]\n",
      "--------------------------------------------------\n",
      "precision: [0.         0.         0.         0.         0.18181818 0.329653\n",
      " 0.41428571 0.45652174 0.34059845 0.30769231 0.34379085 0.2972973\n",
      " 0.32865169]\n",
      "recall:    [0.         0.         0.         0.         0.01690141 0.40115163\n",
      " 0.10943396 0.35546875 0.53356481 0.02622951 0.25459826 0.02511416\n",
      " 0.4843288 ]\n",
      "f1 score:  [0.         0.         0.         0.         0.03092784 0.36190476\n",
      " 0.17313433 0.39970717 0.41578354 0.04833837 0.29254727 0.04631579\n",
      " 0.39158499]\n",
      "--------------------------------------------------\n",
      "precision: [0.         0.         0.5        0.         0.20588235 0.32939322\n",
      " 0.43373494 0.49761526 0.34932593 0.51724138 0.32219251 0.19512195\n",
      " 0.33143939]\n",
      "recall:    [0.         0.         0.00606061 0.         0.01971831 0.40115163\n",
      " 0.13584906 0.40755208 0.51013318 0.04901961 0.23330106 0.01826484\n",
      " 0.51713948]\n",
      "f1 score:  [0.         0.         0.01197605 0.         0.03598972 0.36174816\n",
      " 0.20689655 0.44810308 0.41468581 0.08955224 0.27063448 0.03340292\n",
      " 0.40397045]\n",
      "--------------------------------------------------\n",
      "accuracy: 34.90% (+/- 0.31%)\n",
      "precision: 25.62% (+/- 2.36%)\n",
      "recall: 17.57% (+/- 0.32%)\n",
      "f1 score: 17.38% (+/- 0.46%)\n"
     ]
    }
   ],
   "source": [
    "from sklearn.linear_model import LogisticRegression\n",
    "from sklearn.feature_extraction.text import TfidfVectorizer\n",
    "from sklearn.model_selection import StratifiedKFold\n",
    "from sklearn.metrics import precision_score, recall_score, f1_score\n",
    "\n",
    "tvec = TfidfVectorizer(stop_words=None, max_features=100000, ngram_range=(1, 3))\n",
    "lr = LogisticRegression()\n",
    "\n",
    "\n",
    "def lr_cv(splits, X, Y, pipeline, average_method):\n",
    "    \n",
    "    kfold = StratifiedKFold(n_splits=splits, shuffle=True, random_state=5)\n",
    "    accuracy = []\n",
    "    precision = []\n",
    "    recall = []\n",
    "    f1 = []\n",
    "    for train, test in kfold.split(X, Y):\n",
    "        lr_fit = pipeline.fit(X[train], Y[train])\n",
    "        prediction = lr_fit.predict(X[test])\n",
    "        scores = lr_fit.score(X[test],Y[test])\n",
    "        \n",
    "        accuracy.append(scores * 100)\n",
    "        precision.append(precision_score(Y[test], prediction, average=average_method)*100)\n",
    "        print('precision:',precision_score(Y[test], prediction, average=None))\n",
    "        recall.append(recall_score(Y[test], prediction, average=average_method)*100)\n",
    "        print('recall:   ',recall_score(Y[test], prediction, average=None))\n",
    "        f1.append(f1_score(Y[test], prediction, average=average_method)*100)\n",
    "        print('f1 score: ',f1_score(Y[test], prediction, average=None))\n",
    "        print('-'*50)\n",
    "\n",
    "    print(\"accuracy: %.2f%% (+/- %.2f%%)\" % (np.mean(accuracy), np.std(accuracy)))\n",
    "    print(\"precision: %.2f%% (+/- %.2f%%)\" % (np.mean(precision), np.std(precision)))\n",
    "    print(\"recall: %.2f%% (+/- %.2f%%)\" % (np.mean(recall), np.std(recall)))\n",
    "    print(\"f1 score: %.2f%% (+/- %.2f%%)\" % (np.mean(f1), np.std(f1)))\n",
    "    \n",
    "from sklearn.pipeline import Pipeline\n",
    "original_pipeline = Pipeline([\n",
    "    ('vectorizer', tvec),\n",
    "    ('classifier', lr)\n",
    "])\n",
    "lr_cv(5, processed_data.content, processed_data.sentiment, original_pipeline, 'macro')    "
   ]
  },
  {
   "cell_type": "markdown",
   "id": "c6192cc8",
   "metadata": {},
   "source": [
    "Oversampling"
   ]
  },
  {
   "cell_type": "code",
   "execution_count": 10,
   "id": "5bd8d62c",
   "metadata": {},
   "outputs": [
    {
     "name": "stdout",
     "output_type": "stream",
     "text": [
      "precision: [0.02941176 0.05660377 0.04597701 0.03174603 0.12891344 0.32586558\n",
      " 0.19906323 0.39825898 0.40545145 0.11515152 0.3220339  0.13412564\n",
      " 0.37138131]\n",
      "recall:    [0.04545455 0.08333333 0.07228916 0.05263158 0.1971831  0.30739673\n",
      " 0.32075472 0.47594278 0.27562247 0.18688525 0.33107454 0.18077803\n",
      " 0.26536643]\n",
      "f1 score:  [0.03571429 0.06741573 0.05620609 0.03960396 0.155902   0.31636184\n",
      " 0.24566474 0.43364929 0.3281627  0.1425     0.32649165 0.1539961\n",
      " 0.30954843]\n",
      "--------------------------------------------------\n",
      "precision: [0.         0.01960784 0.03773585 0.0464135  0.11591356 0.31857555\n",
      " 0.2357513  0.42980296 0.36923077 0.12022901 0.30769231 0.15097691\n",
      " 0.3808752 ]\n",
      "recall:    [0.         0.02777778 0.06024096 0.07284768 0.16619718 0.31765835\n",
      " 0.34469697 0.45383615 0.26388889 0.20655738 0.33301065 0.19450801\n",
      " 0.27777778]\n",
      "f1 score:  [0.         0.02298851 0.04640371 0.05670103 0.13657407 0.31811629\n",
      " 0.28       0.44149273 0.30779615 0.15199035 0.31985123 0.17\n",
      " 0.32125769]\n",
      "--------------------------------------------------\n",
      "precision: [0.         0.07407407 0.05701754 0.04016064 0.11891892 0.32437811\n",
      " 0.21555556 0.39195402 0.41093474 0.11660079 0.3226691  0.11561866\n",
      " 0.39566193]\n",
      "recall:    [0.         0.11111111 0.07878788 0.06578947 0.18539326 0.31285988\n",
      " 0.36742424 0.44401042 0.26967593 0.19344262 0.34172314 0.13043478\n",
      " 0.31264775]\n",
      "f1 score:  [0.         0.08888889 0.06615776 0.04987531 0.14489572 0.3185149\n",
      " 0.27170868 0.41636142 0.3256464  0.14549938 0.3319229  0.12258065\n",
      " 0.34929019]\n",
      "--------------------------------------------------\n",
      "precision: [0.         0.07142857 0.03557312 0.01702128 0.10296684 0.31728665\n",
      " 0.1825     0.38023256 0.39218877 0.14285714 0.30409914 0.1042735\n",
      " 0.39271576]\n",
      "recall:    [0.         0.11111111 0.05454545 0.02631579 0.16619718 0.27831094\n",
      " 0.2754717  0.42578125 0.27893519 0.26557377 0.30880929 0.13926941\n",
      " 0.29331756]\n",
      "f1 score:  [0.         0.08695652 0.0430622  0.02067183 0.12715517 0.29652352\n",
      " 0.21954887 0.4017199  0.32600609 0.18577982 0.30643612 0.11925709\n",
      " 0.33581584]\n",
      "--------------------------------------------------\n",
      "precision: [0.         0.03333333 0.04724409 0.02621723 0.11796733 0.2983368\n",
      " 0.2244389  0.41627907 0.39898132 0.12072072 0.29350649 0.0890538\n",
      " 0.37333333]\n",
      "recall:    [0.         0.05714286 0.07272727 0.04605263 0.18309859 0.27543186\n",
      " 0.33962264 0.46614583 0.27214823 0.21895425 0.32817038 0.10958904\n",
      " 0.26477541]\n",
      "f1 score:  [0.         0.04210526 0.05727924 0.03341289 0.14348786 0.28642715\n",
      " 0.27027027 0.43980344 0.32358003 0.15563298 0.30987203 0.09825998\n",
      " 0.30982019]\n",
      "--------------------------------------------------\n",
      "accuracy: 28.14% (+/- 0.59%)\n",
      "precision: 19.33% (+/- 0.46%)\n",
      "recall: 20.90% (+/- 0.61%)\n",
      "f1 score: 19.62% (+/- 0.53%)\n"
     ]
    }
   ],
   "source": [
    "#RandomOverSampler\n",
    "from imblearn.pipeline import make_pipeline\n",
    "from imblearn.over_sampling import ADASYN, SMOTE, RandomOverSampler\n",
    "ROS_pipeline = make_pipeline(tvec, RandomOverSampler(random_state=5),lr)\n",
    "SMOTE_pipeline = make_pipeline(tvec, SMOTE(random_state=5),lr)\n",
    "tv = TfidfVectorizer(stop_words=None, max_features=10000,analyzer='word', token_pattern=r'\\w{1,}')\n",
    "testing_tfidf = tv.fit_transform(processed_data.content)\n",
    "ros = RandomOverSampler(random_state=5)\n",
    "X_ROS, y_ROS = ros.fit_resample(testing_tfidf, processed_data.sentiment)\n",
    "lr_cv(5, processed_data.content, processed_data.sentiment, ROS_pipeline, 'macro')                 # best accuracy"
   ]
  },
  {
   "cell_type": "code",
   "execution_count": 11,
   "id": "83d50cdd",
   "metadata": {},
   "outputs": [
    {
     "name": "stdout",
     "output_type": "stream",
     "text": [
      "precision: [0.03571429 0.05769231 0.05586592 0.0326087  0.11753372 0.33643772\n",
      " 0.19036145 0.42391304 0.34525547 0.10688836 0.34980989 0.1557377\n",
      " 0.35311227]\n",
      "recall:    [0.04545455 0.08333333 0.12048193 0.05921053 0.17183099 0.27761768\n",
      " 0.29811321 0.45643693 0.27388535 0.14754098 0.26718296 0.13043478\n",
      " 0.35874704]\n",
      "f1 score:  [0.04       0.06818182 0.07633588 0.04205607 0.1395881  0.30421053\n",
      " 0.23235294 0.4395742  0.30545689 0.12396694 0.30296378 0.14196762\n",
      " 0.35590736]\n",
      "--------------------------------------------------\n",
      "precision: [0.         0.02       0.06497175 0.04885993 0.12522361 0.34246575\n",
      " 0.23096447 0.44413793 0.30938416 0.11736334 0.34275184 0.17365269\n",
      " 0.35423007]\n",
      "recall:    [0.         0.02777778 0.13855422 0.09933775 0.1971831  0.26391555\n",
      " 0.34469697 0.41872562 0.24421296 0.23934426 0.27008712 0.13272311\n",
      " 0.34397163]\n",
      "f1 score:  [0.         0.02325581 0.08846154 0.06550218 0.15317287 0.29810298\n",
      " 0.27659574 0.43105756 0.27296248 0.1574973  0.30211153 0.15045396\n",
      " 0.34902549]\n",
      "--------------------------------------------------\n",
      "precision: [0.         0.08928571 0.04290429 0.04137931 0.10877193 0.34976526\n",
      " 0.234375   0.44521498 0.36262925 0.12244898 0.3553616  0.12171053\n",
      " 0.35820896]\n",
      "recall:    [0.         0.13888889 0.07878788 0.07894737 0.1741573  0.28598848\n",
      " 0.39772727 0.41796875 0.28414352 0.21639344 0.27589545 0.08466819\n",
      " 0.36879433]\n",
      "f1 score:  [0.         0.10869565 0.05555556 0.05429864 0.13390929 0.31467793\n",
      " 0.29494382 0.43116185 0.31862427 0.1563981  0.3106267  0.09986505\n",
      " 0.36342458]\n",
      "--------------------------------------------------\n",
      "precision: [0.         0.04651163 0.06306306 0.03020134 0.11961722 0.31899642\n",
      " 0.18491484 0.41977077 0.33797654 0.12348178 0.32814527 0.11873351\n",
      " 0.36574074]\n",
      "recall:    [0.         0.05555556 0.12727273 0.05921053 0.21126761 0.256238\n",
      " 0.28679245 0.38151042 0.26678241 0.2        0.24491772 0.10273973\n",
      " 0.37374335]\n",
      "f1 score:  [0.         0.05063291 0.08433735 0.04       0.15274949 0.28419372\n",
      " 0.22485207 0.39972715 0.29818887 0.15269086 0.2804878  0.11015912\n",
      " 0.36969874]\n",
      "--------------------------------------------------\n",
      "precision: [0.         0.05714286 0.05610561 0.03436426 0.09736308 0.31630435\n",
      " 0.22043011 0.46068966 0.34291725 0.11330935 0.31723238 0.11515152\n",
      " 0.35981577]\n",
      "recall:    [0.         0.11428571 0.1030303  0.06578947 0.13521127 0.27927063\n",
      " 0.30943396 0.43489583 0.28314997 0.20588235 0.23523717 0.08675799\n",
      " 0.36938534]\n",
      "f1 score:  [0.         0.07619048 0.07264957 0.04514673 0.11320755 0.29663609\n",
      " 0.25745683 0.4474213  0.31018078 0.14617169 0.27015008 0.09895833\n",
      " 0.36453777]\n",
      "--------------------------------------------------\n",
      "accuracy: 28.10% (+/- 0.55%)\n",
      "precision: 19.56% (+/- 0.48%)\n",
      "recall: 20.62% (+/- 0.63%)\n",
      "f1 score: 19.58% (+/- 0.51%)\n"
     ]
    }
   ],
   "source": [
    "#SMOTE (Synthetic Minority Over-Sampling Technique)\n",
    "smt = SMOTE(random_state=5, k_neighbors=1)\n",
    "X_SMOTE, y_SMOTE = smt.fit_resample(testing_tfidf, processed_data.sentiment)\n",
    "lr_cv(5, processed_data.content, processed_data.sentiment, SMOTE_pipeline, 'macro')       # second best"
   ]
  },
  {
   "cell_type": "markdown",
   "id": "4e618b15",
   "metadata": {},
   "source": [
    "Undersampling"
   ]
  },
  {
   "cell_type": "code",
   "execution_count": 22,
   "id": "edb4833a",
   "metadata": {},
   "outputs": [
    {
     "name": "stdout",
     "output_type": "stream",
     "text": [
      "precision: [0.00636943 0.02586207 0.02419355 0.03663501 0.08600337 0.20389805\n",
      " 0.15853659 0.38793103 0.28286853 0.07424961 0.26208651 0.07591623\n",
      " 0.32781955]\n",
      "recall:    [0.13636364 0.33333333 0.07228916 0.17763158 0.14366197 0.13064361\n",
      " 0.24528302 0.40962289 0.08222351 0.15409836 0.19941917 0.13272311\n",
      " 0.12884161]\n",
      "f1 score:  [0.01217039 0.048      0.03625378 0.06074241 0.10759494 0.15925059\n",
      " 0.19259259 0.39848197 0.1274114  0.10021322 0.22649808 0.09658618\n",
      " 0.18498091]\n",
      "--------------------------------------------------\n",
      "precision: [0.00574713 0.03738318 0.02948403 0.03333333 0.10790274 0.22026432\n",
      " 0.19829424 0.35035629 0.27902946 0.08128544 0.26758621 0.09010152\n",
      " 0.3255814 ]\n",
      "recall:    [0.13636364 0.44444444 0.07228916 0.13245033 0.2        0.14395393\n",
      " 0.35227273 0.38361508 0.0931713  0.14098361 0.18780252 0.1624714\n",
      " 0.14893617]\n",
      "f1 score:  [0.01102941 0.06896552 0.04188482 0.05326232 0.14017769 0.17411492\n",
      " 0.25375171 0.36623215 0.13969631 0.10311751 0.22070535 0.11591837\n",
      " 0.20437956]\n",
      "--------------------------------------------------\n",
      "precision: [0.00424628 0.02877698 0.01902748 0.01982379 0.10095498 0.21903052\n",
      " 0.17879418 0.3744186  0.3254717  0.06229508 0.27004219 0.10035842\n",
      " 0.29504232]\n",
      "recall:    [0.09090909 0.33333333 0.05454545 0.05921053 0.20786517 0.11708253\n",
      " 0.32575758 0.41927083 0.15972222 0.12459016 0.18586641 0.12814645\n",
      " 0.14420804]\n",
      "f1 score:  [0.00811359 0.05298013 0.02821317 0.02970297 0.1359045  0.15259537\n",
      " 0.23087248 0.3955774  0.21428571 0.08306011 0.22018349 0.11256281\n",
      " 0.19372767]\n",
      "--------------------------------------------------\n",
      "precision: [0.008      0.0243309  0.04454685 0.01788376 0.09782609 0.21314741\n",
      " 0.15641026 0.34313725 0.2881072  0.07777778 0.25164474 0.05893536\n",
      " 0.33974359]\n",
      "recall:    [0.18181818 0.27777778 0.17575758 0.07894737 0.22816901 0.10268714\n",
      " 0.23018868 0.36458333 0.09953704 0.18360656 0.14811229 0.07077626\n",
      " 0.156712  ]\n",
      "f1 score:  [0.01532567 0.04474273 0.07107843 0.0291616  0.13693998 0.13860104\n",
      " 0.18625954 0.35353535 0.14795699 0.10926829 0.18647166 0.06431535\n",
      " 0.21448806]\n",
      "--------------------------------------------------\n",
      "precision: [0.00175439 0.03005464 0.03020134 0.03189793 0.10283688 0.26074499\n",
      " 0.17467249 0.41383989 0.2630662  0.08946609 0.23159145 0.0704\n",
      " 0.28307692]\n",
      "recall:    [0.04545455 0.31428571 0.10909091 0.13157895 0.16338028 0.17466411\n",
      " 0.30188679 0.39713542 0.08743486 0.20261438 0.18877057 0.10045662\n",
      " 0.10874704]\n",
      "f1 score:  [0.00337838 0.05486284 0.04730618 0.05134788 0.12622416 0.2091954\n",
      " 0.22130014 0.40531561 0.13124728 0.12412412 0.208      0.08278457\n",
      " 0.15713066]\n",
      "--------------------------------------------------\n",
      "accuracy: 16.72% (+/- 0.82%)\n",
      "precision: 15.20% (+/- 0.28%)\n",
      "recall: 18.34% (+/- 0.84%)\n",
      "f1 score: 13.88% (+/- 0.55%)\n"
     ]
    }
   ],
   "source": [
    "#RandomUnderSampler\n",
    "from imblearn.under_sampling import NearMiss, RandomUnderSampler\n",
    "RUS_pipeline = make_pipeline(tvec, RandomUnderSampler(random_state=5),lr)\n",
    "rus = RandomUnderSampler(random_state=5)\n",
    "X_RUS, y_RUS = rus.fit_resample(testing_tfidf, processed_data.sentiment)\n",
    "lr_cv(5, processed_data.content, processed_data.sentiment, RUS_pipeline, 'macro')"
   ]
  },
  {
   "cell_type": "code",
   "execution_count": null,
   "id": "5a2aabc6",
   "metadata": {},
   "outputs": [],
   "source": [
    "#NearMiss \n",
    "NM1_pipeline = make_pipeline(tvec, NearMiss(sampling_strategy='not minority', version = 1),lr)\n",
    "NM2_pipeline = make_pipeline(tvec, NearMiss(sampling_strategy='not minority', version = 2),lr)\n",
    "NM3_pipeline = make_pipeline(tvec, NearMiss(sampling_strategy='not minority', version = 3, n_neighbors_ver3=4),lr)\n",
    "nm = NearMiss(sampling_strategy='not minority', version=1, n_neighbors=1)\n",
    "X_nm, y_nm = nm.fit_resample(testing_tfidf, processed_data.sentiment)"
   ]
  },
  {
   "cell_type": "code",
   "execution_count": 85,
   "id": "9a918b55",
   "metadata": {},
   "outputs": [
    {
     "name": "stdout",
     "output_type": "stream",
     "text": [
      "precision: [0.         0.02177858 0.02583026 0.03036053 0.11090909 0.21412301\n",
      " 0.20772947 0.34094617 0.25053476 0.0875576  0.21656051 0.05057471\n",
      " 0.2991453 ]\n",
      "recall:    [0.         0.33333333 0.04216867 0.10526316 0.17183099 0.09029779\n",
      " 0.16226415 0.27178153 0.54255935 0.06229508 0.03291384 0.05034325\n",
      " 0.02068558]\n",
      "f1 score:  [0.         0.04088586 0.03203661 0.04712813 0.13480663 0.12702703\n",
      " 0.18220339 0.3024602  0.34278398 0.07279693 0.05714286 0.05045872\n",
      " 0.03869541]\n",
      "--------------------------------------------------\n",
      "precision: [0.         0.0224     0.02484472 0.05255255 0.11397849 0.21534653\n",
      " 0.27428571 0.36968577 0.24719394 0.11683849 0.21192053 0.03870968\n",
      " 0.2761194 ]\n",
      "recall:    [0.         0.38888889 0.04819277 0.23178808 0.14929577 0.08349328\n",
      " 0.18181818 0.26007802 0.54803241 0.11147541 0.03097773 0.02745995\n",
      " 0.02186761]\n",
      "f1 score:  [0.         0.04236006 0.03278689 0.08567931 0.12926829 0.12033195\n",
      " 0.21867882 0.30534351 0.34070876 0.11409396 0.05405405 0.03212851\n",
      " 0.04052574]\n",
      "--------------------------------------------------\n",
      "precision: [0.         0.02320675 0.01529052 0.03151862 0.06773619 0.18706697\n",
      " 0.27388535 0.38754325 0.25436261 0.19774011 0.27094972 0.078125\n",
      " 0.29770992]\n",
      "recall:    [0.         0.30555556 0.03030303 0.14473684 0.10674157 0.07773512\n",
      " 0.16287879 0.29166667 0.49768519 0.1147541  0.09390126 0.09153318\n",
      " 0.04609929]\n",
      "f1 score:  [0.         0.04313725 0.0203252  0.05176471 0.08287895 0.10983051\n",
      " 0.20427553 0.33283804 0.33666079 0.14522822 0.13946801 0.08429926\n",
      " 0.07983623]\n",
      "--------------------------------------------------\n",
      "precision: [0.         0.02       0.01742919 0.02640264 0.09466437 0.22524752\n",
      " 0.25657895 0.41685144 0.25157233 0.13004484 0.21505376 0.05448718\n",
      " 0.28877005]\n",
      "recall:    [0.         0.30555556 0.04848485 0.15789474 0.15492958 0.08733205\n",
      " 0.14716981 0.24479167 0.43981481 0.09508197 0.07744434 0.07762557\n",
      " 0.03193377]\n",
      "f1 score:  [0.         0.03754266 0.02564103 0.04524034 0.11752137 0.12586445\n",
      " 0.18705036 0.30844955 0.32006738 0.10984848 0.113879   0.06403013\n",
      " 0.05750799]\n",
      "--------------------------------------------------\n",
      "precision: [0.00210084 0.01357905 0.0300158  0.02185792 0.09090909 0.20541761\n",
      " 0.21103896 0.28070175 0.32821076 0.11636364 0.22222222 0.07720145\n",
      " 0.30651341]\n",
      "recall:    [0.04545455 0.4        0.11515152 0.13157895 0.25070423 0.08733205\n",
      " 0.24528302 0.27083333 0.1731326  0.10457516 0.04259439 0.14611872\n",
      " 0.04728132]\n",
      "f1 score:  [0.00401606 0.02626642 0.04761905 0.03748828 0.13343328 0.12255892\n",
      " 0.22687609 0.27567926 0.22668688 0.11015491 0.0714866  0.10102605\n",
      " 0.08192524]\n",
      "--------------------------------------------------\n",
      "accuracy: 17.32% (+/- 2.35%)\n",
      "precision: 15.09% (+/- 0.60%)\n",
      "recall: 15.17% (+/- 0.67%)\n",
      "f1 score: 11.62% (+/- 0.52%)\n"
     ]
    }
   ],
   "source": [
    "#NearMiss-1\n",
    "lr_cv(5, processed_data.content, processed_data.sentiment, NM1_pipeline, 'macro')      #It selects samples of the majority\n",
    "                         #class for which average distances to the k closest instances of the minority class is smallest. "
   ]
  },
  {
   "cell_type": "code",
   "execution_count": 86,
   "id": "261240e7",
   "metadata": {},
   "outputs": [
    {
     "name": "stdout",
     "output_type": "stream",
     "text": [
      "precision: [0.00498753 0.02368421 0.02487562 0.02373418 0.07869249 0.21368547\n",
      " 0.13647059 0.38031592 0.33309609 0.06446541 0.21797753 0.08548708\n",
      " 0.27681661]\n",
      "recall:    [0.09090909 0.25       0.06024096 0.09868421 0.18309859 0.17098943\n",
      " 0.21886792 0.40702211 0.27099016 0.13442623 0.09390126 0.09839817\n",
      " 0.04728132]\n",
      "f1 score:  [0.00945626 0.04326923 0.03521127 0.03826531 0.11007621 0.18996798\n",
      " 0.16811594 0.39321608 0.29885057 0.08714134 0.13125846 0.09148936\n",
      " 0.08076729]\n",
      "--------------------------------------------------\n",
      "precision: [0.         0.03439153 0.02033898 0.04874214 0.1010453  0.1959707\n",
      " 0.17523364 0.29276693 0.30159669 0.07195572 0.2875     0.1372549\n",
      " 0.28623188]\n",
      "recall:    [0.         0.36111111 0.03614458 0.20529801 0.16338028 0.10268714\n",
      " 0.28409091 0.33159948 0.29513889 0.12786885 0.11132623 0.12814645\n",
      " 0.14007092]\n",
      "f1 score:  [0.         0.06280193 0.02603037 0.07878018 0.12486545 0.13476071\n",
      " 0.21676301 0.31097561 0.29833285 0.09208973 0.16050244 0.13254438\n",
      " 0.18809524]\n",
      "--------------------------------------------------\n",
      "precision: [0.00240964 0.04304636 0.00892857 0.02998501 0.08847185 0.18155198\n",
      " 0.1862069  0.33804627 0.29472999 0.06599713 0.25847458 0.06681514\n",
      " 0.24430642]\n",
      "recall:    [0.04545455 0.36111111 0.01818182 0.13157895 0.18539326 0.11900192\n",
      " 0.30681818 0.34244792 0.26215278 0.15081967 0.11810261 0.06864989\n",
      " 0.06973995]\n",
      "f1 score:  [0.00457666 0.07692308 0.01197605 0.04884005 0.11978221 0.14376812\n",
      " 0.23175966 0.34023286 0.27748851 0.09181637 0.16212625 0.06772009\n",
      " 0.10850575]\n",
      "--------------------------------------------------\n",
      "precision: [0.00228311 0.02769231 0.03378378 0.03271028 0.07724138 0.19369369\n",
      " 0.13571429 0.29143493 0.32191292 0.07573633 0.2527881  0.06639004\n",
      " 0.28791209]\n",
      "recall:    [0.04545455 0.25       0.06060606 0.13815789 0.15774648 0.12380038\n",
      " 0.21509434 0.34114583 0.26099537 0.17704918 0.13165537 0.07305936\n",
      " 0.07746895]\n",
      "f1 score:  [0.00434783 0.0498615  0.04338395 0.05289673 0.1037037  0.15105386\n",
      " 0.16642336 0.31433713 0.28827101 0.10609037 0.17313813 0.06956522\n",
      " 0.1220876 ]\n",
      "--------------------------------------------------\n",
      "precision: [0.         0.03311258 0.02693603 0.02923077 0.10217984 0.19862227\n",
      " 0.16820276 0.29255319 0.30680949 0.08646003 0.26368159 0.08439898\n",
      " 0.25778547]\n",
      "recall:    [0.         0.28571429 0.04848485 0.125      0.21126761 0.16602687\n",
      " 0.2754717  0.28645833 0.23219456 0.17320261 0.15392062 0.07534247\n",
      " 0.08806147]\n",
      "f1 score:  [0.         0.05934718 0.03463203 0.04738155 0.13774105 0.18086775\n",
      " 0.20886981 0.28947368 0.26433751 0.11534276 0.19437653 0.07961399\n",
      " 0.13127753]\n",
      "--------------------------------------------------\n",
      "accuracy: 17.36% (+/- 0.73%)\n",
      "precision: 14.27% (+/- 0.42%)\n",
      "recall: 16.56% (+/- 0.60%)\n",
      "f1 score: 13.20% (+/- 0.49%)\n"
     ]
    }
   ],
   "source": [
    "#NearMiss-2\n",
    "lr_cv(5, processed_data.content, processed_data.sentiment, NM2_pipeline, 'macro')    #It selects samples of the majority \n",
    "                        #class for which average distances to the k farthest instances of the minority class is smallest."
   ]
  },
  {
   "cell_type": "code",
   "execution_count": 87,
   "id": "2233f706",
   "metadata": {},
   "outputs": [
    {
     "name": "stdout",
     "output_type": "stream",
     "text": [
      "precision: [0.00323974 0.01112656 0.         0.01985981 0.07605178 0.\n",
      " 0.12603306 0.         0.24823274 0.         0.         0.\n",
      " 0.        ]\n",
      "recall:    [0.13636364 0.44444444 0.         0.11184211 0.13239437 0.\n",
      " 0.23018868 0.         0.52866242 0.         0.         0.\n",
      " 0.        ]\n",
      "f1 score:  [0.00632911 0.02170963 0.         0.03373016 0.09660843 0.\n",
      " 0.16288385 0.         0.33783534 0.         0.         0.\n",
      " 0.        ]\n",
      "--------------------------------------------------\n",
      "precision: [0.00211864 0.02072539 0.         0.04358974 0.07738998 0.\n",
      " 0.08796895 0.         0.272      0.0533099  0.         0.\n",
      " 0.        ]\n",
      "recall:    [0.04545455 0.55555556 0.         0.11258278 0.28732394 0.\n",
      " 0.25757576 0.         0.37384259 0.29836066 0.         0.\n",
      " 0.        ]\n",
      "f1 score:  [0.00404858 0.03996004 0.         0.06284658 0.12193664 0.\n",
      " 0.13114754 0.         0.31489154 0.09045726 0.         0.\n",
      " 0.        ]\n",
      "--------------------------------------------------\n",
      "precision: [0.00245098 0.01957831 0.         0.02285092 0.07568027 0.\n",
      " 0.12885154 0.         0.2684841  0.05359246 0.         0.\n",
      " 0.        ]\n",
      "recall:    [0.04545455 0.36111111 0.         0.13815789 0.25       0.\n",
      " 0.34848485 0.         0.37615741 0.29836066 0.         0.\n",
      " 0.        ]\n",
      "f1 score:  [0.00465116 0.03714286 0.         0.03921569 0.11618799 0.\n",
      " 0.18813906 0.         0.31332851 0.0908637  0.         0.\n",
      " 0.        ]\n",
      "--------------------------------------------------\n",
      "precision: [0.00193798 0.01148106 0.         0.02172437 0.08087536 0.\n",
      " 0.11889251 0.         0.26107143 0.07738095 0.         0.\n",
      " 0.        ]\n",
      "recall:    [0.04545455 0.27777778 0.         0.21052632 0.23943662 0.\n",
      " 0.2754717  0.         0.42303241 0.1704918  0.         0.\n",
      " 0.        ]\n",
      "f1 score:  [0.00371747 0.02205072 0.         0.03938462 0.12091038 0.\n",
      " 0.16609784 0.         0.32287986 0.10644831 0.         0.\n",
      " 0.        ]\n",
      "--------------------------------------------------\n",
      "precision: [0.00301205 0.01348548 0.         0.03479576 0.0713246  0.\n",
      " 0.         0.         0.26150699 0.05750351 0.         0.\n",
      " 0.        ]\n",
      "recall:    [0.09090909 0.37142857 0.         0.30263158 0.13802817 0.\n",
      " 0.         0.         0.44412276 0.26797386 0.         0.\n",
      " 0.        ]\n",
      "f1 score:  [0.0058309  0.02602603 0.         0.0624152  0.0940499  0.\n",
      " 0.         0.         0.32918455 0.09468822 0.         0.\n",
      " 0.        ]\n",
      "--------------------------------------------------\n",
      "accuracy: 12.25% (+/- 0.50%)\n",
      "precision: 4.04% (+/- 0.41%)\n",
      "recall: 13.21% (+/- 1.03%)\n",
      "f1 score: 5.55% (+/- 0.55%)\n"
     ]
    }
   ],
   "source": [
    "#NearMiss-3\n",
    "lr_cv(5,  processed_data.content, processed_data.sentiment, NM3_pipeline, 'macro')  #The majority class instances are selected \n",
    "                                                   #for which the average distance to the N nearest-neighbors is the largest."
   ]
  },
  {
   "cell_type": "markdown",
   "id": "8cf6dea8",
   "metadata": {},
   "source": [
    "# Modeling"
   ]
  },
  {
   "cell_type": "code",
   "execution_count": 40,
   "id": "0f4f88d4",
   "metadata": {
    "scrolled": true
   },
   "outputs": [
    {
     "name": "stdout",
     "output_type": "stream",
     "text": [
      "0.284\n",
      "0.196125\n",
      "0.247875\n",
      "0.254125\n",
      "0.246125\n",
      "0.2245\n",
      "0.274\n",
      "0.220125\n",
      "[18:45:26] WARNING: C:/Users/Administrator/workspace/xgboost-win64_release_1.5.0/src/learner.cc:1115: Starting in XGBoost 1.3.0, the default evaluation metric used with the objective 'multi:softprob' was changed from 'merror' to 'mlogloss'. Explicitly set eval_metric if you'd like to restore the old behavior.\n",
      "0.33275\n",
      "0.153375\n"
     ]
    }
   ],
   "source": [
    "\n",
    "###########################################################################################################################\n",
    "\n",
    "#After implementing vectorization using tf-idf, we will use SMOTE or Random Over Sampler to handle our imbalanced data set. \n",
    "\n",
    "###########################################################################################################################\n",
    "\n",
    "\n",
    "def get_feature_vector(train_fit):\n",
    "    vector = TfidfVectorizer(sublinear_tf=True,stop_words=None,analyzer='word', token_pattern=r'\\w{1,}')\n",
    "    vector.fit(train_fit)\n",
    "    return vector\n",
    "\n",
    "tf_vector = get_feature_vector(np.array(processed_data.iloc[:, 2]).ravel())\n",
    "X = tf_vector.transform(np.array(processed_data.iloc[:, 2]).ravel())\n",
    "y = np.array(processed_data.iloc[:, 1]).ravel()\n",
    "X_train, X_test, y_train, y_test = train_test_split(X, y, test_size=0.2, random_state=30)\n",
    "smt = SMOTE(random_state=3)\n",
    "X_train, y_train =smt.fit_resample(X_train, y_train) \n",
    "\n",
    "\n",
    "# Training Logistics Regression model\n",
    "LR_model = LogisticRegression(solver='lbfgs')\n",
    "LR_model.fit(X_train, y_train)\n",
    "y_predict_lr = LR_model.predict(X_test)\n",
    "print(accuracy_score(y_test, y_predict_lr))     #0.284\n",
    "\n",
    "# Training Naive Bayes model\n",
    "NB_model = MultinomialNB()\n",
    "NB_model.fit(X_train, y_train)\n",
    "y_predict_nb = NB_model.predict(X_test)\n",
    "print(accuracy_score(y_test, y_predict_nb)) \n",
    "\n",
    "# Training AdaBoost model\n",
    "AB_model = AdaBoostClassifier()\n",
    "AB_model.fit(X_train, y_train)\n",
    "y_predict_ab = AB_model.predict(X_test)\n",
    "print(accuracy_score(y_test, y_predict_ab)) \n",
    "\n",
    "# Training SVM model\n",
    "SVM_model = LinearSVC()\n",
    "SVM_model.fit(X_train, y_train)\n",
    "y_predict_svm = SVM_model.predict(X_test)\n",
    "print(accuracy_score(y_test, y_predict_svm)) \n",
    "\n",
    "# Training Ridge model\n",
    "R_model = RidgeClassifier()\n",
    "R_model.fit(X_train, y_train)\n",
    "y_predict_r = R_model.predict(X_test)\n",
    "print(accuracy_score(y_test, y_predict_r))  \n",
    "\n",
    "# Training Passive Aggressive Classifier model\n",
    "PA_model = PassiveAggressiveClassifier()\n",
    "PA_model.fit(X_train, y_train)\n",
    "y_predict_pa = PA_model.predict(X_test)\n",
    "print(accuracy_score(y_test, y_predict_pa)) \n",
    "\n",
    "# Training Nearest Centroid model\n",
    "NC_model = NearestCentroid()\n",
    "NC_model.fit(X_train, y_train)\n",
    "y_predict_nc = NC_model.predict(X_test)\n",
    "print(accuracy_score(y_test, y_predict_nc)) \n",
    "\n",
    "# Training Perceptron model\n",
    "P_model = Perceptron()\n",
    "P_model.fit(X_train, y_train)\n",
    "y_predict_p = P_model.predict(X_test)\n",
    "print(accuracy_score(y_test, y_predict_p)) \n",
    "\n",
    "# Training XGBClassifier model\n",
    "XGB_model = XGBClassifier()\n",
    "XGB_model.fit(X_train, y_train)\n",
    "y_predict_xgb = XGB_model.predict(X_test)\n",
    "print(accuracy_score(y_test, y_predict_xgb))                # 0.33275  best accuracy :|\n",
    "\n",
    "# Training KNeighborsClassifier model\n",
    "KNN_model = KNeighborsClassifier()\n",
    "KNN_model.fit(X_train, y_train)\n",
    "y_predict_knn = KNN_model.predict(X_test)\n",
    "print(accuracy_score(y_test, y_predict_knn)) "
   ]
  },
  {
   "cell_type": "markdown",
   "id": "53b1a81c",
   "metadata": {},
   "source": [
    "# Forecasting with XGBClassifier"
   ]
  },
  {
   "cell_type": "code",
   "execution_count": null,
   "id": "1673e8ef",
   "metadata": {},
   "outputs": [],
   "source": [
    "meta = pd.read_csv('meta_nc.csv')\n",
    "meta.head()\n",
    "climate = pd.read_csv('climate-pp.csv')\n",
    "climate.head()\n",
    "\n",
    "processed_meta = text_preprocessing_platform(meta, 'DocText', remove_stopwords=False)\n",
    "processed_climate = text_preprocessing_platform(climate, 'DocText', remove_stopwords=False)\n",
    "\n",
    "# Creating text feature\n",
    "meta_feature = tf_vector.transform(np.array(processed_meta.iloc[:, 0]).ravel())\n",
    "climate_feature = tf_vector.transform(np.array(processed_climate.iloc[:, 0]).ravel())\n",
    "\n",
    "# Using XGBClassifier model for prediction\n",
    "meta_prediction_xgb = XGB_model.predict(meta_feature)\n",
    "climate_prediction_xgb = XGB_model.predict(climate_feature)\n",
    "\n",
    "meta['meta_prediction_xgb'] = \"\"\n",
    "meta.iloc[:,2]=pd.DataFrame(meta_prediction_xgb)\n",
    "meta.to_csv(\"meta_nc1.csv\", index=False)\n",
    "\n",
    "climate['climate_prediction_xgb'] = \"\"\n",
    "climate.iloc[:,2]=pd.DataFrame(climate_prediction_xgb)\n",
    "climate.to_csv(\"climate-pp1.csv\", index=False)"
   ]
  },
  {
   "cell_type": "markdown",
   "id": "d28d9019",
   "metadata": {},
   "source": [
    "# Future Work"
   ]
  },
  {
   "cell_type": "markdown",
   "id": "fb78f2f1",
   "metadata": {},
   "source": [
    "- XGBoost needs Hyperparameter tuning.\n",
    " \n",
    "- Deep Learning or different machine learning algorithms such as LightGBM and Catboost should be used to get better results."
   ]
  }
 ],
 "metadata": {
  "kernelspec": {
   "display_name": "Python 3",
   "language": "python",
   "name": "python3"
  },
  "language_info": {
   "codemirror_mode": {
    "name": "ipython",
    "version": 3
   },
   "file_extension": ".py",
   "mimetype": "text/x-python",
   "name": "python",
   "nbconvert_exporter": "python",
   "pygments_lexer": "ipython3",
   "version": "3.8.8"
  }
 },
 "nbformat": 4,
 "nbformat_minor": 5
}
